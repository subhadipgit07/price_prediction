{
 "cells": [
  {
   "cell_type": "markdown",
   "id": "7c019437",
   "metadata": {},
   "source": [
    "## Importing Libraries"
   ]
  },
  {
   "cell_type": "code",
   "execution_count": 86,
   "id": "70938fae",
   "metadata": {},
   "outputs": [],
   "source": [
    "import numpy as np\n",
    "import pandas as pd\n",
    "import matplotlib.pyplot as plt\n",
    "import seaborn as sns\n",
    "from sklearn.model_selection import train_test_split\n",
    "from sklearn.linear_model import LinearRegression\n",
    "from sklearn import metrics\n",
    "%matplotlib inline\n"
   ]
  },
  {
   "cell_type": "markdown",
   "id": "53908f9d",
   "metadata": {},
   "source": [
    "### Data Description\n",
    "***title - Name of the product\n",
    "\n",
    "Rating- average rating given to a product\n",
    "\n",
    "maincateg - category that the product is listed under(men/women)\n",
    "\n",
    "platform - platform on which it is sold on (Eg. Amazon, Flipkart)\n",
    "\n",
    "price1 - Discounted Price of the listed product\n",
    "\n",
    "actprice1 - Actual price of the listed product\n",
    "\n",
    "Offer % - Discount percent\n",
    "\n",
    "norating1 - number of ratings available for a particular product\n",
    "\n",
    "noreviews1 - number of reviews available for a particular product\n",
    "\n",
    "star_5f - number of five star ratings given to a particular product\n",
    "\n",
    "star_4f - number of four star ratings given to a particular product\n",
    "\n",
    "star_3f - number of three star ratings given to a particular product\n",
    "\n",
    "star_2f - number of two star ratings given to a particular product\n",
    "\n",
    "star_1f - number of one star ratings given to a particular product\n",
    "\n",
    "fulfilled1- whether it is Amazon fulfilled or not***"
   ]
  },
  {
   "cell_type": "code",
   "execution_count": 87,
   "id": "2b8d13b2",
   "metadata": {},
   "outputs": [],
   "source": [
    "train_df=pd.read_csv(\"train.csv\")"
   ]
  },
  {
   "cell_type": "code",
   "execution_count": 88,
   "id": "70bfcbb9",
   "metadata": {},
   "outputs": [
    {
     "data": {
      "text/plain": [
       "(15730, 16)"
      ]
     },
     "execution_count": 88,
     "metadata": {},
     "output_type": "execute_result"
    }
   ],
   "source": [
    "train_df.shape"
   ]
  },
  {
   "cell_type": "code",
   "execution_count": 89,
   "id": "cbac202b",
   "metadata": {},
   "outputs": [
    {
     "data": {
      "text/plain": [
       "Index(['id', 'title', 'Rating', 'maincateg', 'platform', 'price1', 'actprice1',\n",
       "       'Offer %', 'norating1', 'noreviews1', 'star_5f', 'star_4f', 'star_3f',\n",
       "       'star_2f', 'star_1f', 'fulfilled1'],\n",
       "      dtype='object')"
      ]
     },
     "execution_count": 89,
     "metadata": {},
     "output_type": "execute_result"
    }
   ],
   "source": [
    "train_df.columns\n"
   ]
  },
  {
   "cell_type": "code",
   "execution_count": 90,
   "id": "19ab3a92",
   "metadata": {},
   "outputs": [],
   "source": [
    "features=['Rating', 'actprice1', 'norating1', 'noreviews1', 'star_5f',\n",
    "       'star_4f', 'star_3f', 'star_2f', 'star_1f', 'fulfilled1',\n",
    "       'maincateg_Men', 'maincateg_Women', 'platform_Amazon',\n",
    "       'platform_Flipkart']"
   ]
  },
  {
   "cell_type": "code",
   "execution_count": 91,
   "id": "bfafa4d4",
   "metadata": {},
   "outputs": [
    {
     "name": "stdout",
     "output_type": "stream",
     "text": [
      "<class 'pandas.core.frame.DataFrame'>\n",
      "RangeIndex: 15730 entries, 0 to 15729\n",
      "Data columns (total 16 columns):\n",
      " #   Column      Non-Null Count  Dtype  \n",
      "---  ------      --------------  -----  \n",
      " 0   id          15730 non-null  int64  \n",
      " 1   title       15730 non-null  object \n",
      " 2   Rating      15730 non-null  float64\n",
      " 3   maincateg   15204 non-null  object \n",
      " 4   platform    15730 non-null  object \n",
      " 5   price1      15730 non-null  int64  \n",
      " 6   actprice1   15730 non-null  int64  \n",
      " 7   Offer %     15730 non-null  object \n",
      " 8   norating1   15052 non-null  float64\n",
      " 9   noreviews1  15152 non-null  float64\n",
      " 10  star_5f     15142 non-null  float64\n",
      " 11  star_4f     15191 non-null  float64\n",
      " 12  star_3f     15499 non-null  float64\n",
      " 13  star_2f     15730 non-null  int64  \n",
      " 14  star_1f     15730 non-null  int64  \n",
      " 15  fulfilled1  15730 non-null  int64  \n",
      "dtypes: float64(6), int64(6), object(4)\n",
      "memory usage: 1.9+ MB\n"
     ]
    }
   ],
   "source": [
    "train_df.info()"
   ]
  },
  {
   "cell_type": "code",
   "execution_count": 92,
   "id": "051e8752",
   "metadata": {},
   "outputs": [
    {
     "data": {
      "text/html": [
       "<div>\n",
       "<style scoped>\n",
       "    .dataframe tbody tr th:only-of-type {\n",
       "        vertical-align: middle;\n",
       "    }\n",
       "\n",
       "    .dataframe tbody tr th {\n",
       "        vertical-align: top;\n",
       "    }\n",
       "\n",
       "    .dataframe thead th {\n",
       "        text-align: right;\n",
       "    }\n",
       "</style>\n",
       "<table border=\"1\" class=\"dataframe\">\n",
       "  <thead>\n",
       "    <tr style=\"text-align: right;\">\n",
       "      <th></th>\n",
       "      <th>id</th>\n",
       "      <th>title</th>\n",
       "      <th>Rating</th>\n",
       "      <th>maincateg</th>\n",
       "      <th>platform</th>\n",
       "      <th>price1</th>\n",
       "      <th>actprice1</th>\n",
       "      <th>Offer %</th>\n",
       "      <th>norating1</th>\n",
       "      <th>noreviews1</th>\n",
       "      <th>star_5f</th>\n",
       "      <th>star_4f</th>\n",
       "      <th>star_3f</th>\n",
       "      <th>star_2f</th>\n",
       "      <th>star_1f</th>\n",
       "      <th>fulfilled1</th>\n",
       "    </tr>\n",
       "  </thead>\n",
       "  <tbody>\n",
       "    <tr>\n",
       "      <th>0</th>\n",
       "      <td>16695</td>\n",
       "      <td>Fashionable &amp; Comfortable Bellies For Women  (...</td>\n",
       "      <td>3.9</td>\n",
       "      <td>Women</td>\n",
       "      <td>Flipkart</td>\n",
       "      <td>698</td>\n",
       "      <td>999</td>\n",
       "      <td>30.13%</td>\n",
       "      <td>38.0</td>\n",
       "      <td>7.0</td>\n",
       "      <td>17.0</td>\n",
       "      <td>9.0</td>\n",
       "      <td>6.0</td>\n",
       "      <td>3</td>\n",
       "      <td>3</td>\n",
       "      <td>0</td>\n",
       "    </tr>\n",
       "    <tr>\n",
       "      <th>1</th>\n",
       "      <td>5120</td>\n",
       "      <td>Combo Pack of 4 Casual Shoes Sneakers For Men ...</td>\n",
       "      <td>3.8</td>\n",
       "      <td>Men</td>\n",
       "      <td>Flipkart</td>\n",
       "      <td>999</td>\n",
       "      <td>1999</td>\n",
       "      <td>50.03%</td>\n",
       "      <td>531.0</td>\n",
       "      <td>69.0</td>\n",
       "      <td>264.0</td>\n",
       "      <td>92.0</td>\n",
       "      <td>73.0</td>\n",
       "      <td>29</td>\n",
       "      <td>73</td>\n",
       "      <td>1</td>\n",
       "    </tr>\n",
       "    <tr>\n",
       "      <th>2</th>\n",
       "      <td>18391</td>\n",
       "      <td>Cilia Mode Leo Sneakers For Women  (White)</td>\n",
       "      <td>4.4</td>\n",
       "      <td>Women</td>\n",
       "      <td>Flipkart</td>\n",
       "      <td>2749</td>\n",
       "      <td>4999</td>\n",
       "      <td>45.01%</td>\n",
       "      <td>17.0</td>\n",
       "      <td>4.0</td>\n",
       "      <td>11.0</td>\n",
       "      <td>3.0</td>\n",
       "      <td>2.0</td>\n",
       "      <td>1</td>\n",
       "      <td>0</td>\n",
       "      <td>1</td>\n",
       "    </tr>\n",
       "    <tr>\n",
       "      <th>3</th>\n",
       "      <td>495</td>\n",
       "      <td>Men Black Sports Sandal</td>\n",
       "      <td>4.2</td>\n",
       "      <td>Men</td>\n",
       "      <td>Flipkart</td>\n",
       "      <td>518</td>\n",
       "      <td>724</td>\n",
       "      <td>15.85%</td>\n",
       "      <td>46413.0</td>\n",
       "      <td>6229.0</td>\n",
       "      <td>1045.0</td>\n",
       "      <td>12416.0</td>\n",
       "      <td>5352.0</td>\n",
       "      <td>701</td>\n",
       "      <td>4595</td>\n",
       "      <td>1</td>\n",
       "    </tr>\n",
       "    <tr>\n",
       "      <th>4</th>\n",
       "      <td>16408</td>\n",
       "      <td>Men Green Sports Sandal</td>\n",
       "      <td>3.9</td>\n",
       "      <td>Men</td>\n",
       "      <td>Flipkart</td>\n",
       "      <td>1379</td>\n",
       "      <td>2299</td>\n",
       "      <td>40.02%</td>\n",
       "      <td>77.0</td>\n",
       "      <td>3.0</td>\n",
       "      <td>35.0</td>\n",
       "      <td>21.0</td>\n",
       "      <td>7.0</td>\n",
       "      <td>7</td>\n",
       "      <td>7</td>\n",
       "      <td>1</td>\n",
       "    </tr>\n",
       "  </tbody>\n",
       "</table>\n",
       "</div>"
      ],
      "text/plain": [
       "      id                                              title  Rating maincateg  \\\n",
       "0  16695  Fashionable & Comfortable Bellies For Women  (...     3.9     Women   \n",
       "1   5120  Combo Pack of 4 Casual Shoes Sneakers For Men ...     3.8       Men   \n",
       "2  18391         Cilia Mode Leo Sneakers For Women  (White)     4.4     Women   \n",
       "3    495                            Men Black Sports Sandal     4.2       Men   \n",
       "4  16408                            Men Green Sports Sandal     3.9       Men   \n",
       "\n",
       "   platform  price1  actprice1 Offer %  norating1  noreviews1  star_5f  \\\n",
       "0  Flipkart     698        999  30.13%       38.0         7.0     17.0   \n",
       "1  Flipkart     999       1999  50.03%      531.0        69.0    264.0   \n",
       "2  Flipkart    2749       4999  45.01%       17.0         4.0     11.0   \n",
       "3  Flipkart     518        724  15.85%    46413.0      6229.0   1045.0   \n",
       "4  Flipkart    1379       2299  40.02%       77.0         3.0     35.0   \n",
       "\n",
       "   star_4f  star_3f  star_2f  star_1f  fulfilled1  \n",
       "0      9.0      6.0        3        3           0  \n",
       "1     92.0     73.0       29       73           1  \n",
       "2      3.0      2.0        1        0           1  \n",
       "3  12416.0   5352.0      701     4595           1  \n",
       "4     21.0      7.0        7        7           1  "
      ]
     },
     "execution_count": 92,
     "metadata": {},
     "output_type": "execute_result"
    }
   ],
   "source": [
    "train_df.head()"
   ]
  },
  {
   "cell_type": "code",
   "execution_count": 93,
   "id": "da17cf6c",
   "metadata": {},
   "outputs": [
    {
     "data": {
      "text/plain": [
       "id            15730\n",
       "title          4782\n",
       "Rating           34\n",
       "maincateg         2\n",
       "platform          2\n",
       "price1         1478\n",
       "actprice1       885\n",
       "Offer %        2530\n",
       "norating1      2770\n",
       "noreviews1     1122\n",
       "star_5f        2196\n",
       "star_4f        1448\n",
       "star_3f        1107\n",
       "star_2f         759\n",
       "star_1f        1001\n",
       "fulfilled1        2\n",
       "dtype: int64"
      ]
     },
     "execution_count": 93,
     "metadata": {},
     "output_type": "execute_result"
    }
   ],
   "source": [
    "train_df.nunique()"
   ]
  },
  {
   "cell_type": "code",
   "execution_count": 94,
   "id": "1cc2fd30",
   "metadata": {},
   "outputs": [
    {
     "data": {
      "text/plain": [
       "id              int64\n",
       "title          object\n",
       "Rating        float64\n",
       "maincateg      object\n",
       "platform       object\n",
       "price1          int64\n",
       "actprice1       int64\n",
       "Offer %        object\n",
       "norating1     float64\n",
       "noreviews1    float64\n",
       "star_5f       float64\n",
       "star_4f       float64\n",
       "star_3f       float64\n",
       "star_2f         int64\n",
       "star_1f         int64\n",
       "fulfilled1      int64\n",
       "dtype: object"
      ]
     },
     "execution_count": 94,
     "metadata": {},
     "output_type": "execute_result"
    }
   ],
   "source": [
    "train_df.dtypes"
   ]
  },
  {
   "cell_type": "code",
   "execution_count": 95,
   "id": "00ae9b33",
   "metadata": {},
   "outputs": [
    {
     "data": {
      "text/html": [
       "<div>\n",
       "<style scoped>\n",
       "    .dataframe tbody tr th:only-of-type {\n",
       "        vertical-align: middle;\n",
       "    }\n",
       "\n",
       "    .dataframe tbody tr th {\n",
       "        vertical-align: top;\n",
       "    }\n",
       "\n",
       "    .dataframe thead th {\n",
       "        text-align: right;\n",
       "    }\n",
       "</style>\n",
       "<table border=\"1\" class=\"dataframe\">\n",
       "  <thead>\n",
       "    <tr style=\"text-align: right;\">\n",
       "      <th></th>\n",
       "      <th>id</th>\n",
       "      <th>Rating</th>\n",
       "      <th>price1</th>\n",
       "      <th>actprice1</th>\n",
       "      <th>norating1</th>\n",
       "      <th>noreviews1</th>\n",
       "      <th>star_5f</th>\n",
       "      <th>star_4f</th>\n",
       "      <th>star_3f</th>\n",
       "      <th>star_2f</th>\n",
       "      <th>star_1f</th>\n",
       "      <th>fulfilled1</th>\n",
       "    </tr>\n",
       "  </thead>\n",
       "  <tbody>\n",
       "    <tr>\n",
       "      <th>count</th>\n",
       "      <td>15730.000000</td>\n",
       "      <td>15730.000000</td>\n",
       "      <td>15730.000000</td>\n",
       "      <td>15730.000000</td>\n",
       "      <td>15052.000000</td>\n",
       "      <td>15152.000000</td>\n",
       "      <td>15142.000000</td>\n",
       "      <td>15191.000000</td>\n",
       "      <td>15499.000000</td>\n",
       "      <td>15730.000000</td>\n",
       "      <td>15730.000000</td>\n",
       "      <td>15730.000000</td>\n",
       "    </tr>\n",
       "    <tr>\n",
       "      <th>mean</th>\n",
       "      <td>10479.541577</td>\n",
       "      <td>4.012873</td>\n",
       "      <td>688.070693</td>\n",
       "      <td>1369.286777</td>\n",
       "      <td>3057.660776</td>\n",
       "      <td>423.976307</td>\n",
       "      <td>1585.239466</td>\n",
       "      <td>655.923310</td>\n",
       "      <td>357.260662</td>\n",
       "      <td>155.085188</td>\n",
       "      <td>275.500572</td>\n",
       "      <td>0.601526</td>\n",
       "    </tr>\n",
       "    <tr>\n",
       "      <th>std</th>\n",
       "      <td>6080.166276</td>\n",
       "      <td>0.298440</td>\n",
       "      <td>649.409586</td>\n",
       "      <td>1240.900227</td>\n",
       "      <td>11846.965689</td>\n",
       "      <td>1768.230384</td>\n",
       "      <td>6177.476241</td>\n",
       "      <td>2855.735531</td>\n",
       "      <td>1402.246610</td>\n",
       "      <td>558.650254</td>\n",
       "      <td>958.589075</td>\n",
       "      <td>0.489600</td>\n",
       "    </tr>\n",
       "    <tr>\n",
       "      <th>min</th>\n",
       "      <td>3.000000</td>\n",
       "      <td>0.000000</td>\n",
       "      <td>69.000000</td>\n",
       "      <td>42.000000</td>\n",
       "      <td>1.000000</td>\n",
       "      <td>0.000000</td>\n",
       "      <td>0.000000</td>\n",
       "      <td>0.000000</td>\n",
       "      <td>0.000000</td>\n",
       "      <td>0.000000</td>\n",
       "      <td>0.000000</td>\n",
       "      <td>0.000000</td>\n",
       "    </tr>\n",
       "    <tr>\n",
       "      <th>25%</th>\n",
       "      <td>5212.000000</td>\n",
       "      <td>3.900000</td>\n",
       "      <td>349.000000</td>\n",
       "      <td>699.000000</td>\n",
       "      <td>63.000000</td>\n",
       "      <td>9.000000</td>\n",
       "      <td>30.000000</td>\n",
       "      <td>12.000000</td>\n",
       "      <td>7.000000</td>\n",
       "      <td>3.000000</td>\n",
       "      <td>6.000000</td>\n",
       "      <td>0.000000</td>\n",
       "    </tr>\n",
       "    <tr>\n",
       "      <th>50%</th>\n",
       "      <td>10458.500000</td>\n",
       "      <td>4.000000</td>\n",
       "      <td>474.000000</td>\n",
       "      <td>999.000000</td>\n",
       "      <td>308.000000</td>\n",
       "      <td>44.000000</td>\n",
       "      <td>150.000000</td>\n",
       "      <td>60.000000</td>\n",
       "      <td>34.000000</td>\n",
       "      <td>17.000000</td>\n",
       "      <td>30.000000</td>\n",
       "      <td>1.000000</td>\n",
       "    </tr>\n",
       "    <tr>\n",
       "      <th>75%</th>\n",
       "      <td>15766.750000</td>\n",
       "      <td>4.200000</td>\n",
       "      <td>699.000000</td>\n",
       "      <td>1299.000000</td>\n",
       "      <td>1526.000000</td>\n",
       "      <td>215.000000</td>\n",
       "      <td>788.000000</td>\n",
       "      <td>300.000000</td>\n",
       "      <td>172.000000</td>\n",
       "      <td>77.000000</td>\n",
       "      <td>140.000000</td>\n",
       "      <td>1.000000</td>\n",
       "    </tr>\n",
       "    <tr>\n",
       "      <th>max</th>\n",
       "      <td>20973.000000</td>\n",
       "      <td>5.000000</td>\n",
       "      <td>5998.000000</td>\n",
       "      <td>13499.000000</td>\n",
       "      <td>289973.000000</td>\n",
       "      <td>45448.000000</td>\n",
       "      <td>151193.000000</td>\n",
       "      <td>74037.000000</td>\n",
       "      <td>34978.000000</td>\n",
       "      <td>11705.000000</td>\n",
       "      <td>18060.000000</td>\n",
       "      <td>1.000000</td>\n",
       "    </tr>\n",
       "  </tbody>\n",
       "</table>\n",
       "</div>"
      ],
      "text/plain": [
       "                 id        Rating        price1     actprice1      norating1  \\\n",
       "count  15730.000000  15730.000000  15730.000000  15730.000000   15052.000000   \n",
       "mean   10479.541577      4.012873    688.070693   1369.286777    3057.660776   \n",
       "std     6080.166276      0.298440    649.409586   1240.900227   11846.965689   \n",
       "min        3.000000      0.000000     69.000000     42.000000       1.000000   \n",
       "25%     5212.000000      3.900000    349.000000    699.000000      63.000000   \n",
       "50%    10458.500000      4.000000    474.000000    999.000000     308.000000   \n",
       "75%    15766.750000      4.200000    699.000000   1299.000000    1526.000000   \n",
       "max    20973.000000      5.000000   5998.000000  13499.000000  289973.000000   \n",
       "\n",
       "         noreviews1        star_5f       star_4f       star_3f       star_2f  \\\n",
       "count  15152.000000   15142.000000  15191.000000  15499.000000  15730.000000   \n",
       "mean     423.976307    1585.239466    655.923310    357.260662    155.085188   \n",
       "std     1768.230384    6177.476241   2855.735531   1402.246610    558.650254   \n",
       "min        0.000000       0.000000      0.000000      0.000000      0.000000   \n",
       "25%        9.000000      30.000000     12.000000      7.000000      3.000000   \n",
       "50%       44.000000     150.000000     60.000000     34.000000     17.000000   \n",
       "75%      215.000000     788.000000    300.000000    172.000000     77.000000   \n",
       "max    45448.000000  151193.000000  74037.000000  34978.000000  11705.000000   \n",
       "\n",
       "            star_1f    fulfilled1  \n",
       "count  15730.000000  15730.000000  \n",
       "mean     275.500572      0.601526  \n",
       "std      958.589075      0.489600  \n",
       "min        0.000000      0.000000  \n",
       "25%        6.000000      0.000000  \n",
       "50%       30.000000      1.000000  \n",
       "75%      140.000000      1.000000  \n",
       "max    18060.000000      1.000000  "
      ]
     },
     "execution_count": 95,
     "metadata": {},
     "output_type": "execute_result"
    }
   ],
   "source": [
    "train_df.describe()"
   ]
  },
  {
   "cell_type": "code",
   "execution_count": 96,
   "id": "9894e49e",
   "metadata": {},
   "outputs": [
    {
     "data": {
      "text/plain": [
       "id              0\n",
       "title           0\n",
       "Rating          0\n",
       "maincateg     526\n",
       "platform        0\n",
       "price1          0\n",
       "actprice1       0\n",
       "Offer %         0\n",
       "norating1     678\n",
       "noreviews1    578\n",
       "star_5f       588\n",
       "star_4f       539\n",
       "star_3f       231\n",
       "star_2f         0\n",
       "star_1f         0\n",
       "fulfilled1      0\n",
       "dtype: int64"
      ]
     },
     "execution_count": 96,
     "metadata": {},
     "output_type": "execute_result"
    }
   ],
   "source": [
    "train_df.isna().sum()"
   ]
  },
  {
   "cell_type": "code",
   "execution_count": 97,
   "id": "1a97e455",
   "metadata": {},
   "outputs": [
    {
     "data": {
      "image/png": "[encoded data removed]",
      "text/plain": [
       "<Figure size 432x288 with 1 Axes>"
      ]
     },
     "metadata": {
      "needs_background": "light"
     },
     "output_type": "display_data"
    }
   ],
   "source": [
    "import seaborn as sns\n",
    "sns.heatmap(train_df.isnull(), cmap='Blues', cbar=False, yticklabels=False, xticklabels=train_df.columns);"
   ]
  },
  {
   "cell_type": "code",
   "execution_count": 98,
   "id": "5da10c5c",
   "metadata": {},
   "outputs": [
    {
     "name": "stdout",
     "output_type": "stream",
     "text": [
      "number of duplicates =  0\n"
     ]
    }
   ],
   "source": [
    "print('number of duplicates = ',train_df.duplicated().sum())"
   ]
  },
  {
   "cell_type": "code",
   "execution_count": 99,
   "id": "6f38bc70",
   "metadata": {},
   "outputs": [
    {
     "data": {
      "text/plain": [
       "(14945, 16)"
      ]
     },
     "execution_count": 99,
     "metadata": {},
     "output_type": "execute_result"
    }
   ],
   "source": [
    "train_df=train_df.dropna(axis=0)\n",
    "train_df.shape"
   ]
  },
  {
   "cell_type": "code",
   "execution_count": 100,
   "id": "d4412b24",
   "metadata": {},
   "outputs": [],
   "source": [
    "train_df=pd.get_dummies(train_df,columns=['maincateg','platform'])"
   ]
  },
  {
   "cell_type": "code",
   "execution_count": 101,
   "id": "ed05da33",
   "metadata": {},
   "outputs": [],
   "source": [
    "train_df.drop(['id','title'],axis=1,inplace=True)"
   ]
  },
  {
   "cell_type": "code",
   "execution_count": 102,
   "id": "eb274272",
   "metadata": {},
   "outputs": [
    {
     "data": {
      "image/png": "[encoded data removed]",
      "text/plain": [
       "<Figure size 432x288 with 1 Axes>"
      ]
     },
     "metadata": {
      "needs_background": "light"
     },
     "output_type": "display_data"
    }
   ],
   "source": [
    "import seaborn as sns\n",
    "sns.heatmap(train_df.isnull(), cmap='Blues', cbar=False, yticklabels=False, xticklabels=train_df.columns);"
   ]
  },
  {
   "cell_type": "code",
   "execution_count": 103,
   "id": "29ab0ffc",
   "metadata": {},
   "outputs": [
    {
     "data": {
      "text/plain": [
       "Rating               0\n",
       "price1               0\n",
       "actprice1            0\n",
       "Offer %              0\n",
       "norating1            0\n",
       "noreviews1           0\n",
       "star_5f              0\n",
       "star_4f              0\n",
       "star_3f              0\n",
       "star_2f              0\n",
       "star_1f              0\n",
       "fulfilled1           0\n",
       "maincateg_Men        0\n",
       "maincateg_Women      0\n",
       "platform_Amazon      0\n",
       "platform_Flipkart    0\n",
       "dtype: int64"
      ]
     },
     "execution_count": 103,
     "metadata": {},
     "output_type": "execute_result"
    }
   ],
   "source": [
    "train_df.isnull().sum()"
   ]
  },
  {
   "cell_type": "code",
   "execution_count": 104,
   "id": "487931d7",
   "metadata": {},
   "outputs": [
    {
     "name": "stdout",
     "output_type": "stream",
     "text": [
      "<class 'pandas.core.frame.DataFrame'>\n",
      "Int64Index: 14945 entries, 0 to 15729\n",
      "Data columns (total 16 columns):\n",
      " #   Column             Non-Null Count  Dtype  \n",
      "---  ------             --------------  -----  \n",
      " 0   Rating             14945 non-null  float64\n",
      " 1   price1             14945 non-null  int64  \n",
      " 2   actprice1          14945 non-null  int64  \n",
      " 3   Offer %            14945 non-null  object \n",
      " 4   norating1          14945 non-null  float64\n",
      " 5   noreviews1         14945 non-null  float64\n",
      " 6   star_5f            14945 non-null  float64\n",
      " 7   star_4f            14945 non-null  float64\n",
      " 8   star_3f            14945 non-null  float64\n",
      " 9   star_2f            14945 non-null  int64  \n",
      " 10  star_1f            14945 non-null  int64  \n",
      " 11  fulfilled1         14945 non-null  int64  \n",
      " 12  maincateg_Men      14945 non-null  uint8  \n",
      " 13  maincateg_Women    14945 non-null  uint8  \n",
      " 14  platform_Amazon    14945 non-null  uint8  \n",
      " 15  platform_Flipkart  14945 non-null  uint8  \n",
      "dtypes: float64(6), int64(5), object(1), uint8(4)\n",
      "memory usage: 1.5+ MB\n"
     ]
    }
   ],
   "source": [
    "train_df.info()"
   ]
  },
  {
   "cell_type": "code",
   "execution_count": 105,
   "id": "0f2a7d94",
   "metadata": {},
   "outputs": [],
   "source": [
    "# train_df['Offer_percent'] = train_df['Offer %'].str.rstrip('%').astype('float')\n",
    "train_df.drop(['Offer %'],axis=1,inplace=True)"
   ]
  },
  {
   "cell_type": "code",
   "execution_count": 106,
   "id": "28151320",
   "metadata": {},
   "outputs": [
    {
     "name": "stdout",
     "output_type": "stream",
     "text": [
      "<class 'pandas.core.frame.DataFrame'>\n",
      "Int64Index: 14945 entries, 0 to 15729\n",
      "Data columns (total 15 columns):\n",
      " #   Column             Non-Null Count  Dtype  \n",
      "---  ------             --------------  -----  \n",
      " 0   Rating             14945 non-null  float64\n",
      " 1   price1             14945 non-null  int64  \n",
      " 2   actprice1          14945 non-null  int64  \n",
      " 3   norating1          14945 non-null  float64\n",
      " 4   noreviews1         14945 non-null  float64\n",
      " 5   star_5f            14945 non-null  float64\n",
      " 6   star_4f            14945 non-null  float64\n",
      " 7   star_3f            14945 non-null  float64\n",
      " 8   star_2f            14945 non-null  int64  \n",
      " 9   star_1f            14945 non-null  int64  \n",
      " 10  fulfilled1         14945 non-null  int64  \n",
      " 11  maincateg_Men      14945 non-null  uint8  \n",
      " 12  maincateg_Women    14945 non-null  uint8  \n",
      " 13  platform_Amazon    14945 non-null  uint8  \n",
      " 14  platform_Flipkart  14945 non-null  uint8  \n",
      "dtypes: float64(6), int64(5), uint8(4)\n",
      "memory usage: 1.4 MB\n"
     ]
    }
   ],
   "source": [
    "train_df.info()"
   ]
  },
  {
   "cell_type": "markdown",
   "id": "7e870b7d",
   "metadata": {},
   "source": [
    "##  Multiple Linear Regression"
   ]
  },
  {
   "cell_type": "code",
   "execution_count": 107,
   "id": "f5e584b4",
   "metadata": {},
   "outputs": [],
   "source": [
    "X=train_df.drop(['price1'],axis=1)\n",
    "y=train_df.price1"
   ]
  },
  {
   "cell_type": "code",
   "execution_count": null,
   "id": "2d0ebb2f",
   "metadata": {},
   "outputs": [],
   "source": []
  },
  {
   "cell_type": "code",
   "execution_count": 108,
   "id": "9dd025cb",
   "metadata": {},
   "outputs": [
    {
     "name": "stderr",
     "output_type": "stream",
     "text": [
      "C:\\Users\\sg001\\anaconda3\\lib\\site-packages\\seaborn\\distributions.py:2619: FutureWarning: `distplot` is a deprecated function and will be removed in a future version. Please adapt your code to use either `displot` (a figure-level function with similar flexibility) or `histplot` (an axes-level function for histograms).\n",
      "  warnings.warn(msg, FutureWarning)\n"
     ]
    },
    {
     "data": {
      "text/plain": [
       "<AxesSubplot:xlabel='price1', ylabel='Density'>"
      ]
     },
     "execution_count": 108,
     "metadata": {},
     "output_type": "execute_result"
    },
    {
     "data": {
      "image/png": "[encoded data removed]",
      "text/plain": [
       "<Figure size 1080x720 with 1 Axes>"
      ]
     },
     "metadata": {
      "needs_background": "light"
     },
     "output_type": "display_data"
    }
   ],
   "source": [
    "plt.figure(figsize=(15,10))\n",
    "plt.tight_layout()\n",
    "sns.distplot(y)"
   ]
  },
  {
   "cell_type": "code",
   "execution_count": 109,
   "id": "ad55df26",
   "metadata": {},
   "outputs": [
    {
     "data": {
      "image/png": "[encoded data removed]",
      "text/plain": [
       "<Figure size 1800x1080 with 14 Axes>"
      ]
     },
     "metadata": {
      "needs_background": "light"
     },
     "output_type": "display_data"
    }
   ],
   "source": [
    "plt.figure(figsize=(25,15))\n",
    "for i,feature in enumerate(train_df[features]):\n",
    "    plt.subplot(3,5,i+1)\n",
    "    plt.scatter(train_df[feature],train_df['price1'])\n",
    "    plt.ylabel('discounted_price',size=15)\n",
    "    plt.xlabel(feature,size=15)"
   ]
  },
  {
   "cell_type": "code",
   "execution_count": 110,
   "id": "74d9d770",
   "metadata": {},
   "outputs": [
    {
     "data": {
      "text/html": [
       "<table class=\"simpletable\">\n",
       "<caption>OLS Regression Results</caption>\n",
       "<tr>\n",
       "  <th>Dep. Variable:</th>         <td>price1</td>      <th>  R-squared:         </th>  <td>   0.804</td>  \n",
       "</tr>\n",
       "<tr>\n",
       "  <th>Model:</th>                   <td>OLS</td>       <th>  Adj. R-squared:    </th>  <td>   0.804</td>  \n",
       "</tr>\n",
       "<tr>\n",
       "  <th>Method:</th>             <td>Least Squares</td>  <th>  F-statistic:       </th>  <td>   5113.</td>  \n",
       "</tr>\n",
       "<tr>\n",
       "  <th>Date:</th>             <td>Wed, 20 Jul 2022</td> <th>  Prob (F-statistic):</th>   <td>  0.00</td>   \n",
       "</tr>\n",
       "<tr>\n",
       "  <th>Time:</th>                 <td>22:32:41</td>     <th>  Log-Likelihood:    </th> <td>-1.0577e+05</td>\n",
       "</tr>\n",
       "<tr>\n",
       "  <th>No. Observations:</th>      <td> 14945</td>      <th>  AIC:               </th>  <td>2.116e+05</td> \n",
       "</tr>\n",
       "<tr>\n",
       "  <th>Df Residuals:</th>          <td> 14932</td>      <th>  BIC:               </th>  <td>2.117e+05</td> \n",
       "</tr>\n",
       "<tr>\n",
       "  <th>Df Model:</th>              <td>    12</td>      <th>                     </th>      <td> </td>     \n",
       "</tr>\n",
       "<tr>\n",
       "  <th>Covariance Type:</th>      <td>nonrobust</td>    <th>                     </th>      <td> </td>     \n",
       "</tr>\n",
       "</table>\n",
       "<table class=\"simpletable\">\n",
       "<tr>\n",
       "          <td></td>             <th>coef</th>     <th>std err</th>      <th>t</th>      <th>P>|t|</th>  <th>[0.025</th>    <th>0.975]</th>  \n",
       "</tr>\n",
       "<tr>\n",
       "  <th>Rating</th>            <td>  146.6116</td> <td>    8.430</td> <td>   17.393</td> <td> 0.000</td> <td>  130.089</td> <td>  163.134</td>\n",
       "</tr>\n",
       "<tr>\n",
       "  <th>actprice1</th>         <td>    0.4498</td> <td>    0.002</td> <td>  222.463</td> <td> 0.000</td> <td>    0.446</td> <td>    0.454</td>\n",
       "</tr>\n",
       "<tr>\n",
       "  <th>norating1</th>         <td>   -0.0056</td> <td>    0.003</td> <td>   -1.706</td> <td> 0.088</td> <td>   -0.012</td> <td>    0.001</td>\n",
       "</tr>\n",
       "<tr>\n",
       "  <th>noreviews1</th>        <td>    0.0491</td> <td>    0.019</td> <td>    2.583</td> <td> 0.010</td> <td>    0.012</td> <td>    0.086</td>\n",
       "</tr>\n",
       "<tr>\n",
       "  <th>star_5f</th>           <td>    0.0063</td> <td>    0.003</td> <td>    2.142</td> <td> 0.032</td> <td>    0.001</td> <td>    0.012</td>\n",
       "</tr>\n",
       "<tr>\n",
       "  <th>star_4f</th>           <td>    0.0342</td> <td>    0.006</td> <td>    5.757</td> <td> 0.000</td> <td>    0.023</td> <td>    0.046</td>\n",
       "</tr>\n",
       "<tr>\n",
       "  <th>star_3f</th>           <td>   -0.1081</td> <td>    0.019</td> <td>   -5.637</td> <td> 0.000</td> <td>   -0.146</td> <td>   -0.070</td>\n",
       "</tr>\n",
       "<tr>\n",
       "  <th>star_2f</th>           <td>   -0.1216</td> <td>    0.041</td> <td>   -2.947</td> <td> 0.003</td> <td>   -0.203</td> <td>   -0.041</td>\n",
       "</tr>\n",
       "<tr>\n",
       "  <th>star_1f</th>           <td>    0.0730</td> <td>    0.018</td> <td>    3.959</td> <td> 0.000</td> <td>    0.037</td> <td>    0.109</td>\n",
       "</tr>\n",
       "<tr>\n",
       "  <th>fulfilled1</th>        <td>   65.6913</td> <td>    5.027</td> <td>   13.068</td> <td> 0.000</td> <td>   55.838</td> <td>   75.545</td>\n",
       "</tr>\n",
       "<tr>\n",
       "  <th>maincateg_Men</th>     <td> -211.8029</td> <td>   16.554</td> <td>  -12.794</td> <td> 0.000</td> <td> -244.252</td> <td> -179.354</td>\n",
       "</tr>\n",
       "<tr>\n",
       "  <th>maincateg_Women</th>   <td> -221.2583</td> <td>   17.255</td> <td>  -12.823</td> <td> 0.000</td> <td> -255.081</td> <td> -187.436</td>\n",
       "</tr>\n",
       "<tr>\n",
       "  <th>platform_Amazon</th>   <td>  -90.0710</td> <td>   19.786</td> <td>   -4.552</td> <td> 0.000</td> <td> -128.855</td> <td>  -51.287</td>\n",
       "</tr>\n",
       "<tr>\n",
       "  <th>platform_Flipkart</th> <td> -342.9902</td> <td>   17.362</td> <td>  -19.755</td> <td> 0.000</td> <td> -377.022</td> <td> -308.959</td>\n",
       "</tr>\n",
       "</table>\n",
       "<table class=\"simpletable\">\n",
       "<tr>\n",
       "  <th>Omnibus:</th>       <td>3666.666</td> <th>  Durbin-Watson:     </th> <td>   1.972</td> \n",
       "</tr>\n",
       "<tr>\n",
       "  <th>Prob(Omnibus):</th>  <td> 0.000</td>  <th>  Jarque-Bera (JB):  </th> <td>52517.329</td>\n",
       "</tr>\n",
       "<tr>\n",
       "  <th>Skew:</th>           <td> 0.784</td>  <th>  Prob(JB):          </th> <td>    0.00</td> \n",
       "</tr>\n",
       "<tr>\n",
       "  <th>Kurtosis:</th>       <td>12.049</td>  <th>  Cond. No.          </th> <td>9.73e+19</td> \n",
       "</tr>\n",
       "</table><br/><br/>Notes:<br/>[1] Standard Errors assume that the covariance matrix of the errors is correctly specified.<br/>[2] The smallest eigenvalue is 3.22e-28. This might indicate that there are<br/>strong multicollinearity problems or that the design matrix is singular."
      ],
      "text/plain": [
       "<class 'statsmodels.iolib.summary.Summary'>\n",
       "\"\"\"\n",
       "                            OLS Regression Results                            \n",
       "==============================================================================\n",
       "Dep. Variable:                 price1   R-squared:                       0.804\n",
       "Model:                            OLS   Adj. R-squared:                  0.804\n",
       "Method:                 Least Squares   F-statistic:                     5113.\n",
       "Date:                Wed, 20 Jul 2022   Prob (F-statistic):               0.00\n",
       "Time:                        22:32:41   Log-Likelihood:            -1.0577e+05\n",
       "No. Observations:               14945   AIC:                         2.116e+05\n",
       "Df Residuals:                   14932   BIC:                         2.117e+05\n",
       "Df Model:                          12                                         \n",
       "Covariance Type:            nonrobust                                         \n",
       "=====================================================================================\n",
       "                        coef    std err          t      P>|t|      [0.025      0.975]\n",
       "-------------------------------------------------------------------------------------\n",
       "Rating              146.6116      8.430     17.393      0.000     130.089     163.134\n",
       "actprice1             0.4498      0.002    222.463      0.000       0.446       0.454\n",
       "norating1            -0.0056      0.003     -1.706      0.088      -0.012       0.001\n",
       "noreviews1            0.0491      0.019      2.583      0.010       0.012       0.086\n",
       "star_5f               0.0063      0.003      2.142      0.032       0.001       0.012\n",
       "star_4f               0.0342      0.006      5.757      0.000       0.023       0.046\n",
       "star_3f              -0.1081      0.019     -5.637      0.000      -0.146      -0.070\n",
       "star_2f              -0.1216      0.041     -2.947      0.003      -0.203      -0.041\n",
       "star_1f               0.0730      0.018      3.959      0.000       0.037       0.109\n",
       "fulfilled1           65.6913      5.027     13.068      0.000      55.838      75.545\n",
       "maincateg_Men      -211.8029     16.554    -12.794      0.000    -244.252    -179.354\n",
       "maincateg_Women    -221.2583     17.255    -12.823      0.000    -255.081    -187.436\n",
       "platform_Amazon     -90.0710     19.786     -4.552      0.000    -128.855     -51.287\n",
       "platform_Flipkart  -342.9902     17.362    -19.755      0.000    -377.022    -308.959\n",
       "==============================================================================\n",
       "Omnibus:                     3666.666   Durbin-Watson:                   1.972\n",
       "Prob(Omnibus):                  0.000   Jarque-Bera (JB):            52517.329\n",
       "Skew:                           0.784   Prob(JB):                         0.00\n",
       "Kurtosis:                      12.049   Cond. No.                     9.73e+19\n",
       "==============================================================================\n",
       "\n",
       "Notes:\n",
       "[1] Standard Errors assume that the covariance matrix of the errors is correctly specified.\n",
       "[2] The smallest eigenvalue is 3.22e-28. This might indicate that there are\n",
       "strong multicollinearity problems or that the design matrix is singular.\n",
       "\"\"\""
      ]
     },
     "execution_count": 110,
     "metadata": {},
     "output_type": "execute_result"
    }
   ],
   "source": [
    "# first we will ols regression using full data\n",
    "import statsmodels.api as sm\n",
    "ols=sm.OLS(y,X)\n",
    "ols_fit=ols.fit()\n",
    "ols_fit.summary()"
   ]
  },
  {
   "cell_type": "code",
   "execution_count": 111,
   "id": "afbbbc1f",
   "metadata": {},
   "outputs": [],
   "source": [
    "#  split X and y into training and testing sets\n",
    "\n",
    "from sklearn.model_selection import train_test_split\n",
    "\n",
    "X_train, X_test, y_train, y_test = train_test_split(X, y, test_size = 0.20,random_state=25)"
   ]
  },
  {
   "cell_type": "code",
   "execution_count": 112,
   "id": "20b54195",
   "metadata": {
    "scrolled": true
   },
   "outputs": [
    {
     "name": "stdout",
     "output_type": "stream",
     "text": [
      "(11956, 14) (2989, 14)\n"
     ]
    }
   ],
   "source": [
    "print(X_train.shape, X_test.shape)"
   ]
  },
  {
   "cell_type": "code",
   "execution_count": 28,
   "id": "dd249f95",
   "metadata": {},
   "outputs": [],
   "source": [
    "#scaling the data\n",
    "from sklearn.preprocessing import StandardScaler\n",
    "scaler=StandardScaler().fit(X_train)\n",
    "X_scaled_train=scaler.transform(X_train)\n",
    "X_scaled_test=scaler.transform(X_test)"
   ]
  },
  {
   "cell_type": "code",
   "execution_count": 29,
   "id": "7eb9661c",
   "metadata": {},
   "outputs": [],
   "source": [
    "# import statsmodels.api as sm\n",
    "# X_constant = sm.add_constant(X_train)\n",
    "# model=sm.OLS(y_train,X_constant).fit()\n",
    "# model.summary()"
   ]
  },
  {
   "cell_type": "code",
   "execution_count": 30,
   "id": "f58abf79",
   "metadata": {},
   "outputs": [
    {
     "data": {
      "text/html": [
       "<style>#sk-container-id-1 {color: black;background-color: white;}#sk-container-id-1 pre{padding: 0;}#sk-container-id-1 div.sk-toggleable {background-color: white;}#sk-container-id-1 label.sk-toggleable__label {cursor: pointer;display: block;width: 100%;margin-bottom: 0;padding: 0.3em;box-sizing: border-box;text-align: center;}#sk-container-id-1 label.sk-toggleable__label-arrow:before {content: \"▸\";float: left;margin-right: 0.25em;color: #696969;}#sk-container-id-1 label.sk-toggleable__label-arrow:hover:before {color: black;}#sk-container-id-1 div.sk-estimator:hover label.sk-toggleable__label-arrow:before {color: black;}#sk-container-id-1 div.sk-toggleable__content {max-height: 0;max-width: 0;overflow: hidden;text-align: left;background-color: #f0f8ff;}#sk-container-id-1 div.sk-toggleable__content pre {margin: 0.2em;color: black;border-radius: 0.25em;background-color: #f0f8ff;}#sk-container-id-1 input.sk-toggleable__control:checked~div.sk-toggleable__content {max-height: 200px;max-width: 100%;overflow: auto;}#sk-container-id-1 input.sk-toggleable__control:checked~label.sk-toggleable__label-arrow:before {content: \"▾\";}#sk-container-id-1 div.sk-estimator input.sk-toggleable__control:checked~label.sk-toggleable__label {background-color: #d4ebff;}#sk-container-id-1 div.sk-label input.sk-toggleable__control:checked~label.sk-toggleable__label {background-color: #d4ebff;}#sk-container-id-1 input.sk-hidden--visually {border: 0;clip: rect(1px 1px 1px 1px);clip: rect(1px, 1px, 1px, 1px);height: 1px;margin: -1px;overflow: hidden;padding: 0;position: absolute;width: 1px;}#sk-container-id-1 div.sk-estimator {font-family: monospace;background-color: #f0f8ff;border: 1px dotted black;border-radius: 0.25em;box-sizing: border-box;margin-bottom: 0.5em;}#sk-container-id-1 div.sk-estimator:hover {background-color: #d4ebff;}#sk-container-id-1 div.sk-parallel-item::after {content: \"\";width: 100%;border-bottom: 1px solid gray;flex-grow: 1;}#sk-container-id-1 div.sk-label:hover label.sk-toggleable__label {background-color: #d4ebff;}#sk-container-id-1 div.sk-serial::before {content: \"\";position: absolute;border-left: 1px solid gray;box-sizing: border-box;top: 0;bottom: 0;left: 50%;z-index: 0;}#sk-container-id-1 div.sk-serial {display: flex;flex-direction: column;align-items: center;background-color: white;padding-right: 0.2em;padding-left: 0.2em;position: relative;}#sk-container-id-1 div.sk-item {position: relative;z-index: 1;}#sk-container-id-1 div.sk-parallel {display: flex;align-items: stretch;justify-content: center;background-color: white;position: relative;}#sk-container-id-1 div.sk-item::before, #sk-container-id-1 div.sk-parallel-item::before {content: \"\";position: absolute;border-left: 1px solid gray;box-sizing: border-box;top: 0;bottom: 0;left: 50%;z-index: -1;}#sk-container-id-1 div.sk-parallel-item {display: flex;flex-direction: column;z-index: 1;position: relative;background-color: white;}#sk-container-id-1 div.sk-parallel-item:first-child::after {align-self: flex-end;width: 50%;}#sk-container-id-1 div.sk-parallel-item:last-child::after {align-self: flex-start;width: 50%;}#sk-container-id-1 div.sk-parallel-item:only-child::after {width: 0;}#sk-container-id-1 div.sk-dashed-wrapped {border: 1px dashed gray;margin: 0 0.4em 0.5em 0.4em;box-sizing: border-box;padding-bottom: 0.4em;background-color: white;}#sk-container-id-1 div.sk-label label {font-family: monospace;font-weight: bold;display: inline-block;line-height: 1.2em;}#sk-container-id-1 div.sk-label-container {text-align: center;}#sk-container-id-1 div.sk-container {/* jupyter's `normalize.less` sets `[hidden] { display: none; }` but bootstrap.min.css set `[hidden] { display: none !important; }` so we also need the `!important` here to be able to override the default hidden behavior on the sphinx rendered scikit-learn.org. See: https://github.com/scikit-learn/scikit-learn/issues/21755 */display: inline-block !important;position: relative;}#sk-container-id-1 div.sk-text-repr-fallback {display: none;}</style><div id=\"sk-container-id-1\" class=\"sk-top-container\"><div class=\"sk-text-repr-fallback\"><pre>LinearRegression()</pre><b>In a Jupyter environment, please rerun this cell to show the HTML representation or trust the notebook. <br />On GitHub, the HTML representation is unable to render, please try loading this page with nbviewer.org.</b></div><div class=\"sk-container\" hidden><div class=\"sk-item\"><div class=\"sk-estimator sk-toggleable\"><input class=\"sk-toggleable__control sk-hidden--visually\" id=\"sk-estimator-id-1\" type=\"checkbox\" checked><label for=\"sk-estimator-id-1\" class=\"sk-toggleable__label sk-toggleable__label-arrow\">LinearRegression</label><div class=\"sk-toggleable__content\"><pre>LinearRegression()</pre></div></div></div></div></div>"
      ],
      "text/plain": [
       "LinearRegression()"
      ]
     },
     "execution_count": 30,
     "metadata": {},
     "output_type": "execute_result"
    }
   ],
   "source": [
    "from sklearn import linear_model as lm\n",
    "lr=lm.LinearRegression()\n",
    "lr.fit(X_scaled_train,y_train)"
   ]
  },
  {
   "cell_type": "code",
   "execution_count": 31,
   "id": "5a4b4288",
   "metadata": {
    "scrolled": true
   },
   "outputs": [
    {
     "name": "stdout",
     "output_type": "stream",
     "text": [
      "coeficients are :  [  43.663976    560.58021627  -54.98397757   71.52305807   15.86229686\n",
      "  142.44257297 -190.97213425  -46.0676008    68.42763275   32.22802093\n",
      "    2.14535607   -2.14535607   17.16446877  -17.16446877]  \n",
      "\n",
      "  and intercept is  688.4397791903646\n"
     ]
    }
   ],
   "source": [
    "print(\"coeficients are : \",lr.coef_,\" \\n\\n  and intercept is \",lr.intercept_)"
   ]
  },
  {
   "cell_type": "code",
   "execution_count": 32,
   "id": "3e21a618",
   "metadata": {},
   "outputs": [],
   "source": [
    " y_predicted = lr.predict(X_scaled_test)"
   ]
  },
  {
   "cell_type": "code",
   "execution_count": 33,
   "id": "d9238560",
   "metadata": {},
   "outputs": [],
   "source": [
    "def RMSE(X_test,y_test):\n",
    "    import math\n",
    "    y_actual = y_test\n",
    "    y_predicted = lr.predict(X_test)\n",
    " \n",
    "    #MSE = np.square(np.subtract(y_actual,y_predicted)).mean() \n",
    "    MSE= metrics.mean_squared_error(y_test,y_predicted)\n",
    "    RMSE = math.sqrt(MSE)\n",
    "    print(\"Root Mean absolute Error: \",metrics.mean_absolute_error(y_test,y_predicted))\n",
    "    print(\"Mean Square Error: \",MSE)\n",
    "    print(\"Root Mean Square Error: \",RMSE)\n",
    " "
   ]
  },
  {
   "cell_type": "code",
   "execution_count": 34,
   "id": "bb0b0434",
   "metadata": {},
   "outputs": [
    {
     "name": "stdout",
     "output_type": "stream",
     "text": [
      "Root Mean absolute Error:  183.67572247796704\n",
      "Mean Square Error:  81742.16211144198\n",
      "Root Mean Square Error:  285.9058623243707\n"
     ]
    }
   ],
   "source": [
    "RMSE(X_scaled_test,y_test)"
   ]
  },
  {
   "cell_type": "code",
   "execution_count": 35,
   "id": "3a26499c",
   "metadata": {},
   "outputs": [],
   "source": [
    "def evaluation(lr,X_test,y_test):\n",
    "    r2=lr.score(X_test,y_test)\n",
    "    adjusted_r2=1-(1-r2)*(len(y_test)-1)/(len(y_test)-X_test.shape[1]-1)\n",
    "    print(\"R2 value is : \",r2 ,\"  and adjusted R2 value is \",adjusted_r2)"
   ]
  },
  {
   "cell_type": "code",
   "execution_count": 36,
   "id": "db4d77e2",
   "metadata": {},
   "outputs": [
    {
     "name": "stdout",
     "output_type": "stream",
     "text": [
      "R2 value is :  0.8053684661619186   and adjusted R2 value is  0.8051402740947774\n"
     ]
    }
   ],
   "source": [
    "evaluation(lr,X_scaled_train,y_train)"
   ]
  },
  {
   "cell_type": "code",
   "execution_count": 37,
   "id": "b9180988",
   "metadata": {},
   "outputs": [
    {
     "name": "stdout",
     "output_type": "stream",
     "text": [
      "R2 value is :  0.7986598341144387   and adjusted R2 value is  0.7977120323920455\n"
     ]
    }
   ],
   "source": [
    "evaluation(lr,X_scaled_test,y_test)"
   ]
  },
  {
   "cell_type": "markdown",
   "id": "2a220b67",
   "metadata": {},
   "source": [
    "## Now predict using test dataset"
   ]
  },
  {
   "cell_type": "code",
   "execution_count": 117,
   "id": "266a8c12",
   "metadata": {},
   "outputs": [],
   "source": [
    "test_df=pd.read_csv('test.csv')\n"
   ]
  },
  {
   "cell_type": "code",
   "execution_count": 118,
   "id": "e82134e9",
   "metadata": {},
   "outputs": [
    {
     "data": {
      "image/png": "[encoded data removed]",
      "text/plain": [
       "<Figure size 432x288 with 1 Axes>"
      ]
     },
     "metadata": {
      "needs_background": "light"
     },
     "output_type": "display_data"
    }
   ],
   "source": [
    "import seaborn as sns\n",
    "sns.heatmap(test_df.isnull(), cmap='Blues', cbar=False, yticklabels=False, xticklabels=test_df.columns);"
   ]
  },
  {
   "cell_type": "code",
   "execution_count": 119,
   "id": "3f737e9d",
   "metadata": {},
   "outputs": [
    {
     "data": {
      "text/plain": [
       "id              0\n",
       "title           0\n",
       "Rating        203\n",
       "maincateg      67\n",
       "platform        0\n",
       "actprice1       0\n",
       "norating1       0\n",
       "noreviews1      0\n",
       "star_5f        68\n",
       "star_4f         0\n",
       "star_3f         0\n",
       "star_2f         0\n",
       "star_1f       186\n",
       "fulfilled1      0\n",
       "dtype: int64"
      ]
     },
     "execution_count": 119,
     "metadata": {},
     "output_type": "execute_result"
    }
   ],
   "source": [
    "test_df.isnull().sum()"
   ]
  },
  {
   "cell_type": "code",
   "execution_count": 120,
   "id": "bcbe9291",
   "metadata": {},
   "outputs": [
    {
     "data": {
      "text/plain": [
       "(5244, 14)"
      ]
     },
     "execution_count": 120,
     "metadata": {},
     "output_type": "execute_result"
    }
   ],
   "source": [
    "test_df.shape"
   ]
  },
  {
   "cell_type": "code",
   "execution_count": 121,
   "id": "dfb45d09",
   "metadata": {},
   "outputs": [
    {
     "data": {
      "text/plain": [
       "Women    3032\n",
       "Men      2145\n",
       "Name: maincateg, dtype: int64"
      ]
     },
     "execution_count": 121,
     "metadata": {},
     "output_type": "execute_result"
    }
   ],
   "source": [
    "test_df['maincateg'].value_counts()"
   ]
  },
  {
   "cell_type": "code",
   "execution_count": 122,
   "id": "4d5f225c",
   "metadata": {},
   "outputs": [
    {
     "data": {
      "text/plain": [
       "'Women'"
      ]
     },
     "execution_count": 122,
     "metadata": {},
     "output_type": "execute_result"
    }
   ],
   "source": [
    "max_val=test_df['maincateg'].mode()[0]\n",
    "max_val"
   ]
  },
  {
   "cell_type": "code",
   "execution_count": 123,
   "id": "74fbdee0",
   "metadata": {},
   "outputs": [],
   "source": [
    "test_df['maincateg']=test_df['maincateg'].fillna(max_val)"
   ]
  },
  {
   "cell_type": "code",
   "execution_count": 124,
   "id": "ad9d12cf",
   "metadata": {},
   "outputs": [
    {
     "name": "stderr",
     "output_type": "stream",
     "text": [
      "C:\\Users\\sg001\\anaconda3\\lib\\site-packages\\seaborn\\_decorators.py:36: FutureWarning: Pass the following variable as a keyword arg: x. From version 0.12, the only valid positional argument will be `data`, and passing other arguments without an explicit keyword will result in an error or misinterpretation.\n",
      "  warnings.warn(\n",
      "C:\\Users\\sg001\\anaconda3\\lib\\site-packages\\seaborn\\distributions.py:2619: FutureWarning: `distplot` is a deprecated function and will be removed in a future version. Please adapt your code to use either `displot` (a figure-level function with similar flexibility) or `histplot` (an axes-level function for histograms).\n",
      "  warnings.warn(msg, FutureWarning)\n"
     ]
    },
    {
     "data": {
      "text/plain": [
       "<AxesSubplot:xlabel='star_5f', ylabel='Density'>"
      ]
     },
     "execution_count": 124,
     "metadata": {},
     "output_type": "execute_result"
    },
    {
     "data": {
      "image/png": "[encoded data removed]",
      "text/plain": [
       "<Figure size 432x288 with 1 Axes>"
      ]
     },
     "metadata": {
      "needs_background": "light"
     },
     "output_type": "display_data"
    },
    {
     "data": {
      "image/png": "[encoded data removed]",
      "text/plain": [
       "<Figure size 720x432 with 1 Axes>"
      ]
     },
     "metadata": {
      "needs_background": "light"
     },
     "output_type": "display_data"
    }
   ],
   "source": [
    "import seaborn as sns\n",
    "sns.boxplot(test_df.star_5f)\n",
    "\n",
    "fig,ax=plt.subplots(figsize=(10,6))\n",
    "sns.distplot(test_df.star_5f)"
   ]
  },
  {
   "cell_type": "code",
   "execution_count": 125,
   "id": "be954d59",
   "metadata": {},
   "outputs": [
    {
     "data": {
      "text/plain": [
       "4.0       80\n",
       "3.0       75\n",
       "2.0       69\n",
       "6.0       61\n",
       "5.0       59\n",
       "          ..\n",
       "4898.0     1\n",
       "823.0      1\n",
       "3526.0     1\n",
       "319.0      1\n",
       "2055.0     1\n",
       "Name: star_5f, Length: 1437, dtype: int64"
      ]
     },
     "execution_count": 125,
     "metadata": {},
     "output_type": "execute_result"
    }
   ],
   "source": [
    "test_df['star_5f'].value_counts()"
   ]
  },
  {
   "cell_type": "code",
   "execution_count": 126,
   "id": "95fe59a7",
   "metadata": {},
   "outputs": [
    {
     "data": {
      "text/plain": [
       "4.0"
      ]
     },
     "execution_count": 126,
     "metadata": {},
     "output_type": "execute_result"
    }
   ],
   "source": [
    "r5=test_df['star_5f'].mode()[0]\n",
    "r5"
   ]
  },
  {
   "cell_type": "code",
   "execution_count": 127,
   "id": "415cc12c",
   "metadata": {},
   "outputs": [],
   "source": [
    "test_df['star_5f']=test_df['star_5f'].fillna(r5)"
   ]
  },
  {
   "cell_type": "code",
   "execution_count": 128,
   "id": "8c491f4b",
   "metadata": {},
   "outputs": [
    {
     "name": "stderr",
     "output_type": "stream",
     "text": [
      "C:\\Users\\sg001\\anaconda3\\lib\\site-packages\\seaborn\\_decorators.py:36: FutureWarning: Pass the following variable as a keyword arg: x. From version 0.12, the only valid positional argument will be `data`, and passing other arguments without an explicit keyword will result in an error or misinterpretation.\n",
      "  warnings.warn(\n",
      "C:\\Users\\sg001\\anaconda3\\lib\\site-packages\\seaborn\\distributions.py:2619: FutureWarning: `distplot` is a deprecated function and will be removed in a future version. Please adapt your code to use either `displot` (a figure-level function with similar flexibility) or `histplot` (an axes-level function for histograms).\n",
      "  warnings.warn(msg, FutureWarning)\n"
     ]
    },
    {
     "data": {
      "text/plain": [
       "<AxesSubplot:xlabel='star_1f', ylabel='Density'>"
      ]
     },
     "execution_count": 128,
     "metadata": {},
     "output_type": "execute_result"
    },
    {
     "data": {
      "image/png": "[encoded data removed]",
      "text/plain": [
       "<Figure size 432x288 with 1 Axes>"
      ]
     },
     "metadata": {
      "needs_background": "light"
     },
     "output_type": "display_data"
    },
    {
     "data": {
      "image/png": "[encoded data removed]",
      "text/plain": [
       "<Figure size 720x432 with 1 Axes>"
      ]
     },
     "metadata": {
      "needs_background": "light"
     },
     "output_type": "display_data"
    }
   ],
   "source": [
    "import seaborn as sns\n",
    "sns.boxplot(test_df.star_1f)\n",
    "\n",
    "fig,ax=plt.subplots(figsize=(10,6))\n",
    "sns.distplot(test_df.star_1f)"
   ]
  },
  {
   "cell_type": "code",
   "execution_count": 129,
   "id": "3fb8c19e",
   "metadata": {},
   "outputs": [
    {
     "data": {
      "text/plain": [
       "0.0       290\n",
       "1.0       273\n",
       "2.0       202\n",
       "3.0       162\n",
       "5.0       145\n",
       "         ... \n",
       "1803.0      1\n",
       "565.0       1\n",
       "950.0       1\n",
       "1155.0      1\n",
       "1270.0      1\n",
       "Name: star_1f, Length: 719, dtype: int64"
      ]
     },
     "execution_count": 129,
     "metadata": {},
     "output_type": "execute_result"
    }
   ],
   "source": [
    "test_df['star_1f'].value_counts()"
   ]
  },
  {
   "cell_type": "code",
   "execution_count": 130,
   "id": "ff777309",
   "metadata": {},
   "outputs": [
    {
     "data": {
      "text/plain": [
       "0.0"
      ]
     },
     "execution_count": 130,
     "metadata": {},
     "output_type": "execute_result"
    }
   ],
   "source": [
    "r1=test_df['star_1f'].mode()[0]\n",
    "r1"
   ]
  },
  {
   "cell_type": "code",
   "execution_count": 131,
   "id": "b09fb7a4",
   "metadata": {},
   "outputs": [],
   "source": [
    "test_df['star_1f']=test_df['star_1f'].fillna(r1)"
   ]
  },
  {
   "cell_type": "code",
   "execution_count": 132,
   "id": "5794e70d",
   "metadata": {},
   "outputs": [
    {
     "name": "stderr",
     "output_type": "stream",
     "text": [
      "C:\\Users\\sg001\\anaconda3\\lib\\site-packages\\seaborn\\_decorators.py:36: FutureWarning: Pass the following variable as a keyword arg: x. From version 0.12, the only valid positional argument will be `data`, and passing other arguments without an explicit keyword will result in an error or misinterpretation.\n",
      "  warnings.warn(\n",
      "C:\\Users\\sg001\\anaconda3\\lib\\site-packages\\seaborn\\distributions.py:2619: FutureWarning: `distplot` is a deprecated function and will be removed in a future version. Please adapt your code to use either `displot` (a figure-level function with similar flexibility) or `histplot` (an axes-level function for histograms).\n",
      "  warnings.warn(msg, FutureWarning)\n"
     ]
    },
    {
     "data": {
      "text/plain": [
       "<AxesSubplot:xlabel='Rating', ylabel='Density'>"
      ]
     },
     "execution_count": 132,
     "metadata": {},
     "output_type": "execute_result"
    },
    {
     "data": {
      "image/png": "[encoded data removed]",
      "text/plain": [
       "<Figure size 432x288 with 1 Axes>"
      ]
     },
     "metadata": {
      "needs_background": "light"
     },
     "output_type": "display_data"
    },
    {
     "data": {
      "image/png": "[encoded data removed]",
      "text/plain": [
       "<Figure size 720x432 with 1 Axes>"
      ]
     },
     "metadata": {
      "needs_background": "light"
     },
     "output_type": "display_data"
    }
   ],
   "source": [
    "import seaborn as sns\n",
    "sns.boxplot(test_df.Rating)\n",
    "\n",
    "fig,ax=plt.subplots(figsize=(10,6))\n",
    "sns.distplot(test_df.Rating)"
   ]
  },
  {
   "cell_type": "code",
   "execution_count": 133,
   "id": "9fac2e0f",
   "metadata": {},
   "outputs": [
    {
     "data": {
      "text/plain": [
       "4.011089069629038"
      ]
     },
     "execution_count": 133,
     "metadata": {},
     "output_type": "execute_result"
    }
   ],
   "source": [
    "r_avg=test_df['Rating'].mean()\n",
    "r_avg"
   ]
  },
  {
   "cell_type": "code",
   "execution_count": 134,
   "id": "413e4ec8",
   "metadata": {},
   "outputs": [],
   "source": [
    "test_df['Rating']=test_df['Rating'].fillna(r_avg)"
   ]
  },
  {
   "cell_type": "code",
   "execution_count": 135,
   "id": "7bfb282b",
   "metadata": {},
   "outputs": [
    {
     "data": {
      "text/plain": [
       "id            0\n",
       "title         0\n",
       "Rating        0\n",
       "maincateg     0\n",
       "platform      0\n",
       "actprice1     0\n",
       "norating1     0\n",
       "noreviews1    0\n",
       "star_5f       0\n",
       "star_4f       0\n",
       "star_3f       0\n",
       "star_2f       0\n",
       "star_1f       0\n",
       "fulfilled1    0\n",
       "dtype: int64"
      ]
     },
     "execution_count": 135,
     "metadata": {},
     "output_type": "execute_result"
    }
   ],
   "source": [
    "test_df.isnull().sum()"
   ]
  },
  {
   "cell_type": "code",
   "execution_count": 136,
   "id": "63e89d3b",
   "metadata": {},
   "outputs": [
    {
     "name": "stdout",
     "output_type": "stream",
     "text": [
      "<class 'pandas.core.frame.DataFrame'>\n",
      "RangeIndex: 5244 entries, 0 to 5243\n",
      "Data columns (total 14 columns):\n",
      " #   Column      Non-Null Count  Dtype  \n",
      "---  ------      --------------  -----  \n",
      " 0   id          5244 non-null   int64  \n",
      " 1   title       5244 non-null   object \n",
      " 2   Rating      5244 non-null   float64\n",
      " 3   maincateg   5244 non-null   object \n",
      " 4   platform    5244 non-null   object \n",
      " 5   actprice1   5244 non-null   int64  \n",
      " 6   norating1   5244 non-null   int64  \n",
      " 7   noreviews1  5244 non-null   int64  \n",
      " 8   star_5f     5244 non-null   float64\n",
      " 9   star_4f     5244 non-null   int64  \n",
      " 10  star_3f     5244 non-null   int64  \n",
      " 11  star_2f     5244 non-null   int64  \n",
      " 12  star_1f     5244 non-null   float64\n",
      " 13  fulfilled1  5244 non-null   int64  \n",
      "dtypes: float64(3), int64(8), object(3)\n",
      "memory usage: 573.7+ KB\n"
     ]
    }
   ],
   "source": [
    "test_df.info()"
   ]
  },
  {
   "cell_type": "code",
   "execution_count": 137,
   "id": "698d7f79",
   "metadata": {},
   "outputs": [
    {
     "data": {
      "text/plain": [
       "(5244, 16)"
      ]
     },
     "execution_count": 137,
     "metadata": {},
     "output_type": "execute_result"
    }
   ],
   "source": [
    "test_df\n",
    "test_df=pd.get_dummies(test_df,columns=['maincateg','platform'])\n",
    "test_df.shape"
   ]
  },
  {
   "cell_type": "code",
   "execution_count": 73,
   "id": "9e8a2b2b",
   "metadata": {},
   "outputs": [
    {
     "data": {
      "text/plain": [
       "(5244, 14)"
      ]
     },
     "execution_count": 73,
     "metadata": {},
     "output_type": "execute_result"
    }
   ],
   "source": [
    "test_x=test_df.drop(['id','title'],axis=1)\n",
    "test_x.shape"
   ]
  },
  {
   "cell_type": "code",
   "execution_count": 81,
   "id": "1c0db2c0",
   "metadata": {},
   "outputs": [],
   "source": [
    "test_scaled_x=scaler.transform(test_x)"
   ]
  },
  {
   "cell_type": "code",
   "execution_count": 82,
   "id": "09578670",
   "metadata": {},
   "outputs": [],
   "source": [
    "res=lr.predict(test_scaled_x)"
   ]
  },
  {
   "cell_type": "code",
   "execution_count": 83,
   "id": "200d5c92",
   "metadata": {},
   "outputs": [],
   "source": [
    "df=pd.DataFrame()\n",
    "df['id']=test_df.id\n",
    "df['price1']=pd.DataFrame(res)\n"
   ]
  },
  {
   "cell_type": "code",
   "execution_count": 84,
   "id": "fb963a18",
   "metadata": {},
   "outputs": [
    {
     "data": {
      "text/html": [
       "<div>\n",
       "<style scoped>\n",
       "    .dataframe tbody tr th:only-of-type {\n",
       "        vertical-align: middle;\n",
       "    }\n",
       "\n",
       "    .dataframe tbody tr th {\n",
       "        vertical-align: top;\n",
       "    }\n",
       "\n",
       "    .dataframe thead th {\n",
       "        text-align: right;\n",
       "    }\n",
       "</style>\n",
       "<table border=\"1\" class=\"dataframe\">\n",
       "  <thead>\n",
       "    <tr style=\"text-align: right;\">\n",
       "      <th></th>\n",
       "      <th>id</th>\n",
       "      <th>price1</th>\n",
       "    </tr>\n",
       "  </thead>\n",
       "  <tbody>\n",
       "    <tr>\n",
       "      <th>0</th>\n",
       "      <td>2242</td>\n",
       "      <td>445.562726</td>\n",
       "    </tr>\n",
       "    <tr>\n",
       "      <th>1</th>\n",
       "      <td>20532</td>\n",
       "      <td>291.563105</td>\n",
       "    </tr>\n",
       "    <tr>\n",
       "      <th>2</th>\n",
       "      <td>10648</td>\n",
       "      <td>519.430172</td>\n",
       "    </tr>\n",
       "    <tr>\n",
       "      <th>3</th>\n",
       "      <td>20677</td>\n",
       "      <td>1437.022352</td>\n",
       "    </tr>\n",
       "    <tr>\n",
       "      <th>4</th>\n",
       "      <td>12593</td>\n",
       "      <td>464.276358</td>\n",
       "    </tr>\n",
       "    <tr>\n",
       "      <th>...</th>\n",
       "      <td>...</td>\n",
       "      <td>...</td>\n",
       "    </tr>\n",
       "    <tr>\n",
       "      <th>5239</th>\n",
       "      <td>14033</td>\n",
       "      <td>395.281139</td>\n",
       "    </tr>\n",
       "    <tr>\n",
       "      <th>5240</th>\n",
       "      <td>297</td>\n",
       "      <td>915.486252</td>\n",
       "    </tr>\n",
       "    <tr>\n",
       "      <th>5241</th>\n",
       "      <td>18733</td>\n",
       "      <td>439.567511</td>\n",
       "    </tr>\n",
       "    <tr>\n",
       "      <th>5242</th>\n",
       "      <td>6162</td>\n",
       "      <td>212.150010</td>\n",
       "    </tr>\n",
       "    <tr>\n",
       "      <th>5243</th>\n",
       "      <td>13574</td>\n",
       "      <td>654.744621</td>\n",
       "    </tr>\n",
       "  </tbody>\n",
       "</table>\n",
       "<p>5244 rows × 2 columns</p>\n",
       "</div>"
      ],
      "text/plain": [
       "         id       price1\n",
       "0      2242   445.562726\n",
       "1     20532   291.563105\n",
       "2     10648   519.430172\n",
       "3     20677  1437.022352\n",
       "4     12593   464.276358\n",
       "...     ...          ...\n",
       "5239  14033   395.281139\n",
       "5240    297   915.486252\n",
       "5241  18733   439.567511\n",
       "5242   6162   212.150010\n",
       "5243  13574   654.744621\n",
       "\n",
       "[5244 rows x 2 columns]"
      ]
     },
     "execution_count": 84,
     "metadata": {},
     "output_type": "execute_result"
    }
   ],
   "source": [
    "df"
   ]
  },
  {
   "cell_type": "code",
   "execution_count": 72,
   "id": "bd1224a8",
   "metadata": {},
   "outputs": [],
   "source": [
    "df.to_csv(\"predict_result.csv\",index=False)"
   ]
  },
  {
   "cell_type": "markdown",
   "id": "eda54a12",
   "metadata": {},
   "source": [
    "## Neural Network For Regression"
   ]
  },
  {
   "cell_type": "code",
   "execution_count": null,
   "id": "588c9d30",
   "metadata": {},
   "outputs": [],
   "source": [
    "import tensorflow as tf\n",
    "import pandas as pd"
   ]
  },
  {
   "cell_type": "code",
   "execution_count": 83,
   "id": "a4aaeba3",
   "metadata": {},
   "outputs": [],
   "source": [
    "#scaling the data\n",
    "from sklearn.preprocessing import StandardScaler\n",
    "scaler=StandardScaler().fit(X_train)\n",
    "X_scaled_train=scaler.transform(X_train)\n",
    "X_scaled_test=scaler.transform(X_test)"
   ]
  },
  {
   "cell_type": "code",
   "execution_count": 92,
   "id": "cb9dd446",
   "metadata": {},
   "outputs": [],
   "source": [
    "from tensorflow.keras import models\n",
    "from tensorflow.keras import layers\n",
    "nn_model=models.Sequential()\n",
    "nn_model.add(layers.Dense(64,activation='relu',input_shape=(X_train.shape[1],)))\n",
    "nn_model.add(layers.Dense(64,activation='relu'))\n",
    "nn_model.add(layers.Dense(64,activation='relu'))\n",
    "nn_model.add(layers.Dense(1,activation='linear'))\n",
    "nn_model.compile(loss='mean_squared_error',optimizer='adam',metrics=['mean_absolute_error','mean_squared_error'])"
   ]
  },
  {
   "cell_type": "code",
   "execution_count": 94,
   "id": "3756d7a1",
   "metadata": {},
   "outputs": [
    {
     "name": "stdout",
     "output_type": "stream",
     "text": [
      "Epoch 1/100\n",
      "1196/1196 [==============================] - 7s 2ms/step - loss: 178119.6719 - mean_absolute_error: 248.3059 - mean_squared_error: 178119.6719 - val_loss: 83690.8516 - val_mean_absolute_error: 179.0810 - val_mean_squared_error: 83690.8516\n",
      "Epoch 2/100\n",
      "1196/1196 [==============================] - 3s 2ms/step - loss: 81776.1328 - mean_absolute_error: 177.8711 - mean_squared_error: 81776.1328 - val_loss: 82192.7969 - val_mean_absolute_error: 180.4083 - val_mean_squared_error: 82192.7969\n",
      "Epoch 3/100\n",
      "1196/1196 [==============================] - 2s 2ms/step - loss: 80571.0938 - mean_absolute_error: 176.5827 - mean_squared_error: 80571.0938 - val_loss: 82085.4297 - val_mean_absolute_error: 177.3498 - val_mean_squared_error: 82085.4297\n",
      "Epoch 4/100\n",
      "1196/1196 [==============================] - 3s 2ms/step - loss: 79709.7969 - mean_absolute_error: 174.6295 - mean_squared_error: 79709.7969 - val_loss: 81751.8281 - val_mean_absolute_error: 184.4833 - val_mean_squared_error: 81751.8438\n",
      "Epoch 5/100\n",
      "1196/1196 [==============================] - 3s 2ms/step - loss: 79416.3594 - mean_absolute_error: 174.1398 - mean_squared_error: 79416.3594 - val_loss: 82459.1484 - val_mean_absolute_error: 180.9889 - val_mean_squared_error: 82459.1484\n",
      "Epoch 6/100\n",
      "1196/1196 [==============================] - 3s 2ms/step - loss: 78064.0234 - mean_absolute_error: 172.7287 - mean_squared_error: 78064.0234 - val_loss: 79750.4844 - val_mean_absolute_error: 179.7453 - val_mean_squared_error: 79750.4844\n",
      "Epoch 7/100\n",
      "1196/1196 [==============================] - 3s 2ms/step - loss: 77817.7500 - mean_absolute_error: 172.4274 - mean_squared_error: 77817.7500 - val_loss: 77160.2344 - val_mean_absolute_error: 173.3567 - val_mean_squared_error: 77160.2344\n",
      "Epoch 8/100\n",
      "1196/1196 [==============================] - 3s 2ms/step - loss: 76805.8828 - mean_absolute_error: 170.7760 - mean_squared_error: 76805.8828 - val_loss: 79031.8672 - val_mean_absolute_error: 179.9456 - val_mean_squared_error: 79031.8672\n",
      "Epoch 9/100\n",
      "1196/1196 [==============================] - 3s 2ms/step - loss: 76676.5312 - mean_absolute_error: 170.9016 - mean_squared_error: 76676.5312 - val_loss: 77009.5234 - val_mean_absolute_error: 174.8014 - val_mean_squared_error: 77009.5234\n",
      "Epoch 10/100\n",
      "1196/1196 [==============================] - 3s 2ms/step - loss: 76240.3828 - mean_absolute_error: 169.8480 - mean_squared_error: 76240.3828 - val_loss: 80063.8906 - val_mean_absolute_error: 181.0385 - val_mean_squared_error: 80063.8906\n",
      "Epoch 11/100\n",
      "1196/1196 [==============================] - 3s 2ms/step - loss: 75675.8125 - mean_absolute_error: 169.2071 - mean_squared_error: 75675.8125 - val_loss: 78478.8359 - val_mean_absolute_error: 172.4549 - val_mean_squared_error: 78478.8359\n",
      "Epoch 12/100\n",
      "1196/1196 [==============================] - 3s 2ms/step - loss: 75911.0156 - mean_absolute_error: 169.8792 - mean_squared_error: 75911.0078 - val_loss: 75739.6016 - val_mean_absolute_error: 171.3003 - val_mean_squared_error: 75739.6016\n",
      "Epoch 13/100\n",
      "1196/1196 [==============================] - 3s 2ms/step - loss: 75648.2734 - mean_absolute_error: 169.5008 - mean_squared_error: 75648.2734 - val_loss: 77220.0859 - val_mean_absolute_error: 171.0229 - val_mean_squared_error: 77220.0859\n",
      "Epoch 14/100\n",
      "1196/1196 [==============================] - 3s 2ms/step - loss: 75390.2656 - mean_absolute_error: 169.0487 - mean_squared_error: 75390.2656 - val_loss: 77177.3281 - val_mean_absolute_error: 171.3188 - val_mean_squared_error: 77177.3281\n",
      "Epoch 15/100\n",
      "1196/1196 [==============================] - 3s 2ms/step - loss: 75165.3359 - mean_absolute_error: 168.8315 - mean_squared_error: 75165.3203 - val_loss: 75458.3906 - val_mean_absolute_error: 172.7583 - val_mean_squared_error: 75458.3906\n",
      "Epoch 16/100\n",
      "1196/1196 [==============================] - 3s 2ms/step - loss: 74633.6328 - mean_absolute_error: 168.3451 - mean_squared_error: 74633.6328 - val_loss: 76884.2891 - val_mean_absolute_error: 172.0133 - val_mean_squared_error: 76884.2891\n",
      "Epoch 17/100\n",
      "1196/1196 [==============================] - 3s 2ms/step - loss: 74739.4297 - mean_absolute_error: 167.3785 - mean_squared_error: 74739.4297 - val_loss: 74786.3984 - val_mean_absolute_error: 172.3537 - val_mean_squared_error: 74786.3984\n",
      "Epoch 18/100\n",
      "1196/1196 [==============================] - 3s 2ms/step - loss: 74158.0703 - mean_absolute_error: 167.3552 - mean_squared_error: 74158.0703 - val_loss: 74968.5938 - val_mean_absolute_error: 169.1560 - val_mean_squared_error: 74968.5938\n",
      "Epoch 19/100\n",
      "1196/1196 [==============================] - 3s 2ms/step - loss: 74057.4609 - mean_absolute_error: 167.1938 - mean_squared_error: 74057.4609 - val_loss: 74219.8750 - val_mean_absolute_error: 171.0231 - val_mean_squared_error: 74219.8750\n",
      "Epoch 20/100\n",
      "1196/1196 [==============================] - 3s 2ms/step - loss: 73104.9453 - mean_absolute_error: 166.1663 - mean_squared_error: 73104.9453 - val_loss: 73991.4375 - val_mean_absolute_error: 170.6311 - val_mean_squared_error: 73991.4375\n",
      "Epoch 21/100\n",
      "1196/1196 [==============================] - 3s 2ms/step - loss: 74024.3594 - mean_absolute_error: 167.6093 - mean_squared_error: 74024.3594 - val_loss: 76822.9453 - val_mean_absolute_error: 173.6491 - val_mean_squared_error: 76822.9453\n",
      "Epoch 22/100\n",
      "1196/1196 [==============================] - 3s 2ms/step - loss: 73670.7969 - mean_absolute_error: 166.8988 - mean_squared_error: 73670.7969 - val_loss: 73537.2188 - val_mean_absolute_error: 166.4749 - val_mean_squared_error: 73537.2109\n",
      "Epoch 23/100\n",
      "1196/1196 [==============================] - 3s 2ms/step - loss: 73375.1328 - mean_absolute_error: 166.3320 - mean_squared_error: 73375.1328 - val_loss: 75448.3906 - val_mean_absolute_error: 166.4847 - val_mean_squared_error: 75448.3906\n",
      "Epoch 24/100\n",
      "1196/1196 [==============================] - 3s 2ms/step - loss: 73433.9062 - mean_absolute_error: 166.1586 - mean_squared_error: 73433.9062 - val_loss: 73309.5625 - val_mean_absolute_error: 167.1696 - val_mean_squared_error: 73309.5625\n",
      "Epoch 25/100\n",
      "1196/1196 [==============================] - 3s 2ms/step - loss: 73054.5156 - mean_absolute_error: 165.9848 - mean_squared_error: 73054.5156 - val_loss: 76558.7188 - val_mean_absolute_error: 177.3836 - val_mean_squared_error: 76558.7266\n",
      "Epoch 26/100\n",
      "1196/1196 [==============================] - 3s 2ms/step - loss: 73334.9766 - mean_absolute_error: 166.0868 - mean_squared_error: 73334.9766 - val_loss: 73131.0234 - val_mean_absolute_error: 167.5897 - val_mean_squared_error: 73131.0234\n",
      "Epoch 27/100\n",
      "1196/1196 [==============================] - 3s 2ms/step - loss: 73034.6406 - mean_absolute_error: 165.4714 - mean_squared_error: 73034.6406 - val_loss: 72939.7734 - val_mean_absolute_error: 166.6155 - val_mean_squared_error: 72939.7734\n",
      "Epoch 28/100\n",
      "1196/1196 [==============================] - 3s 2ms/step - loss: 72800.4844 - mean_absolute_error: 165.7039 - mean_squared_error: 72800.4844 - val_loss: 75539.0703 - val_mean_absolute_error: 171.1029 - val_mean_squared_error: 75539.0703\n",
      "Epoch 29/100\n",
      "1196/1196 [==============================] - 3s 2ms/step - loss: 72906.0625 - mean_absolute_error: 165.6573 - mean_squared_error: 72906.0625 - val_loss: 73700.2266 - val_mean_absolute_error: 171.1479 - val_mean_squared_error: 73700.2266\n",
      "Epoch 30/100\n",
      "1196/1196 [==============================] - 3s 2ms/step - loss: 72852.0078 - mean_absolute_error: 165.6570 - mean_squared_error: 72852.0078 - val_loss: 74507.7578 - val_mean_absolute_error: 171.8185 - val_mean_squared_error: 74507.7578\n",
      "Epoch 31/100\n",
      "1196/1196 [==============================] - 3s 2ms/step - loss: 72605.1562 - mean_absolute_error: 164.8227 - mean_squared_error: 72605.1562 - val_loss: 73889.1953 - val_mean_absolute_error: 172.7690 - val_mean_squared_error: 73889.1953\n",
      "Epoch 32/100\n",
      "1196/1196 [==============================] - 3s 2ms/step - loss: 72512.0078 - mean_absolute_error: 164.8762 - mean_squared_error: 72512.0078 - val_loss: 72985.7500 - val_mean_absolute_error: 166.4605 - val_mean_squared_error: 72985.7500\n",
      "Epoch 33/100\n",
      "1196/1196 [==============================] - 3s 2ms/step - loss: 72328.6875 - mean_absolute_error: 164.5910 - mean_squared_error: 72328.6875 - val_loss: 73306.9453 - val_mean_absolute_error: 171.8828 - val_mean_squared_error: 73306.9453\n"
     ]
    },
    {
     "name": "stdout",
     "output_type": "stream",
     "text": [
      "Epoch 34/100\n",
      "1196/1196 [==============================] - 3s 2ms/step - loss: 72354.6484 - mean_absolute_error: 165.0139 - mean_squared_error: 72354.6484 - val_loss: 73983.2578 - val_mean_absolute_error: 174.4275 - val_mean_squared_error: 73983.2578\n",
      "Epoch 35/100\n",
      "1196/1196 [==============================] - 3s 2ms/step - loss: 72259.1484 - mean_absolute_error: 164.4048 - mean_squared_error: 72259.1484 - val_loss: 73464.6953 - val_mean_absolute_error: 164.2936 - val_mean_squared_error: 73464.6953\n",
      "Epoch 36/100\n",
      "1196/1196 [==============================] - 3s 2ms/step - loss: 72308.6406 - mean_absolute_error: 164.4122 - mean_squared_error: 72308.6406 - val_loss: 72357.8828 - val_mean_absolute_error: 166.2807 - val_mean_squared_error: 72357.8828\n",
      "Epoch 37/100\n",
      "1196/1196 [==============================] - 3s 2ms/step - loss: 71711.3828 - mean_absolute_error: 164.4716 - mean_squared_error: 71711.3828 - val_loss: 73676.0000 - val_mean_absolute_error: 170.9625 - val_mean_squared_error: 73675.9922\n",
      "Epoch 38/100\n",
      "1196/1196 [==============================] - 3s 2ms/step - loss: 72338.8672 - mean_absolute_error: 164.5012 - mean_squared_error: 72338.8672 - val_loss: 76136.6172 - val_mean_absolute_error: 170.5272 - val_mean_squared_error: 76136.6172\n",
      "Epoch 39/100\n",
      "1196/1196 [==============================] - 3s 2ms/step - loss: 71622.1641 - mean_absolute_error: 164.0500 - mean_squared_error: 71622.1562 - val_loss: 72564.4609 - val_mean_absolute_error: 165.4454 - val_mean_squared_error: 72564.4609\n",
      "Epoch 40/100\n",
      "1196/1196 [==============================] - 2s 2ms/step - loss: 71800.5234 - mean_absolute_error: 163.8850 - mean_squared_error: 71800.5234 - val_loss: 73794.8281 - val_mean_absolute_error: 165.2161 - val_mean_squared_error: 73794.8281\n",
      "Epoch 41/100\n",
      "1196/1196 [==============================] - 3s 2ms/step - loss: 71661.2969 - mean_absolute_error: 163.7702 - mean_squared_error: 71661.2969 - val_loss: 73533.6328 - val_mean_absolute_error: 170.4497 - val_mean_squared_error: 73533.6328\n",
      "Epoch 42/100\n",
      "1196/1196 [==============================] - 2s 2ms/step - loss: 71546.9688 - mean_absolute_error: 163.8913 - mean_squared_error: 71546.9688 - val_loss: 72040.0469 - val_mean_absolute_error: 166.7611 - val_mean_squared_error: 72040.0469\n",
      "Epoch 43/100\n",
      "1196/1196 [==============================] - 3s 2ms/step - loss: 71486.6641 - mean_absolute_error: 163.2452 - mean_squared_error: 71486.6641 - val_loss: 71968.9062 - val_mean_absolute_error: 168.1273 - val_mean_squared_error: 71968.9062\n",
      "Epoch 44/100\n",
      "1196/1196 [==============================] - 3s 2ms/step - loss: 71356.3828 - mean_absolute_error: 163.8393 - mean_squared_error: 71356.3828 - val_loss: 72124.9141 - val_mean_absolute_error: 165.4792 - val_mean_squared_error: 72124.9141\n",
      "Epoch 45/100\n",
      "1196/1196 [==============================] - 3s 2ms/step - loss: 70879.0078 - mean_absolute_error: 163.0227 - mean_squared_error: 70879.0078 - val_loss: 79256.3594 - val_mean_absolute_error: 177.9615 - val_mean_squared_error: 79256.3594\n",
      "Epoch 46/100\n",
      "1196/1196 [==============================] - 3s 2ms/step - loss: 71056.8438 - mean_absolute_error: 162.4817 - mean_squared_error: 71056.8438 - val_loss: 72697.4375 - val_mean_absolute_error: 171.1918 - val_mean_squared_error: 72697.4375\n",
      "Epoch 47/100\n",
      "1196/1196 [==============================] - 3s 2ms/step - loss: 70648.1719 - mean_absolute_error: 162.4059 - mean_squared_error: 70648.1719 - val_loss: 72803.0234 - val_mean_absolute_error: 167.6232 - val_mean_squared_error: 72803.0234\n",
      "Epoch 48/100\n",
      "1196/1196 [==============================] - 3s 2ms/step - loss: 71153.9609 - mean_absolute_error: 162.9995 - mean_squared_error: 71153.9609 - val_loss: 73285.4219 - val_mean_absolute_error: 163.6946 - val_mean_squared_error: 73285.4219\n",
      "Epoch 49/100\n",
      "1196/1196 [==============================] - 3s 2ms/step - loss: 71074.0938 - mean_absolute_error: 162.8454 - mean_squared_error: 71074.0938 - val_loss: 71726.9688 - val_mean_absolute_error: 163.8698 - val_mean_squared_error: 71726.9688\n",
      "Epoch 50/100\n",
      "1196/1196 [==============================] - 3s 2ms/step - loss: 70864.7812 - mean_absolute_error: 162.8910 - mean_squared_error: 70864.7812 - val_loss: 71516.8594 - val_mean_absolute_error: 165.1939 - val_mean_squared_error: 71516.8594\n",
      "Epoch 51/100\n",
      "1196/1196 [==============================] - 3s 2ms/step - loss: 70606.1250 - mean_absolute_error: 162.3048 - mean_squared_error: 70606.1250 - val_loss: 72151.7266 - val_mean_absolute_error: 167.9475 - val_mean_squared_error: 72151.7266\n",
      "Epoch 52/100\n",
      "1196/1196 [==============================] - 3s 2ms/step - loss: 70787.6406 - mean_absolute_error: 162.4629 - mean_squared_error: 70787.6406 - val_loss: 72695.6953 - val_mean_absolute_error: 166.9276 - val_mean_squared_error: 72695.6953\n",
      "Epoch 53/100\n",
      "1196/1196 [==============================] - 3s 2ms/step - loss: 70402.7266 - mean_absolute_error: 161.7507 - mean_squared_error: 70402.7266 - val_loss: 73370.1953 - val_mean_absolute_error: 168.1277 - val_mean_squared_error: 73370.2031\n",
      "Epoch 54/100\n",
      "1196/1196 [==============================] - 3s 2ms/step - loss: 70387.0938 - mean_absolute_error: 162.4700 - mean_squared_error: 70387.0938 - val_loss: 73076.0859 - val_mean_absolute_error: 164.4529 - val_mean_squared_error: 73076.0859\n",
      "Epoch 55/100\n",
      "1196/1196 [==============================] - 3s 2ms/step - loss: 70506.1797 - mean_absolute_error: 162.1827 - mean_squared_error: 70506.1797 - val_loss: 73264.8750 - val_mean_absolute_error: 166.4427 - val_mean_squared_error: 73264.8750\n",
      "Epoch 56/100\n",
      "1196/1196 [==============================] - 3s 2ms/step - loss: 69975.3359 - mean_absolute_error: 161.8037 - mean_squared_error: 69975.3359 - val_loss: 71655.9766 - val_mean_absolute_error: 164.6147 - val_mean_squared_error: 71655.9766\n",
      "Epoch 57/100\n",
      "1196/1196 [==============================] - 3s 2ms/step - loss: 70694.6875 - mean_absolute_error: 162.3912 - mean_squared_error: 70694.6875 - val_loss: 72203.7422 - val_mean_absolute_error: 164.9764 - val_mean_squared_error: 72203.7422\n",
      "Epoch 58/100\n",
      "1196/1196 [==============================] - 2s 2ms/step - loss: 70428.8281 - mean_absolute_error: 162.1264 - mean_squared_error: 70428.8281 - val_loss: 71625.5625 - val_mean_absolute_error: 166.8548 - val_mean_squared_error: 71625.5625\n",
      "Epoch 59/100\n",
      "1196/1196 [==============================] - 2s 2ms/step - loss: 70385.0547 - mean_absolute_error: 161.8021 - mean_squared_error: 70385.0547 - val_loss: 71549.1016 - val_mean_absolute_error: 165.3004 - val_mean_squared_error: 71549.1016\n",
      "Epoch 60/100\n",
      "1196/1196 [==============================] - 3s 2ms/step - loss: 70021.6094 - mean_absolute_error: 161.8393 - mean_squared_error: 70021.6016 - val_loss: 75959.5938 - val_mean_absolute_error: 177.8907 - val_mean_squared_error: 75959.5938\n",
      "Epoch 61/100\n",
      "1196/1196 [==============================] - 3s 2ms/step - loss: 69908.8906 - mean_absolute_error: 161.0890 - mean_squared_error: 69908.8906 - val_loss: 71977.2422 - val_mean_absolute_error: 165.9482 - val_mean_squared_error: 71977.2422\n",
      "Epoch 62/100\n",
      "1196/1196 [==============================] - 3s 2ms/step - loss: 70260.1641 - mean_absolute_error: 161.6803 - mean_squared_error: 70260.1641 - val_loss: 71872.9766 - val_mean_absolute_error: 168.3191 - val_mean_squared_error: 71872.9766\n",
      "Epoch 63/100\n",
      "1196/1196 [==============================] - 3s 2ms/step - loss: 69592.8672 - mean_absolute_error: 161.0818 - mean_squared_error: 69592.8672 - val_loss: 75520.6562 - val_mean_absolute_error: 174.7763 - val_mean_squared_error: 75520.6562\n",
      "Epoch 64/100\n",
      "1196/1196 [==============================] - 3s 2ms/step - loss: 69636.4062 - mean_absolute_error: 160.8842 - mean_squared_error: 69636.3984 - val_loss: 75133.8984 - val_mean_absolute_error: 170.2793 - val_mean_squared_error: 75133.8984\n",
      "Epoch 65/100\n",
      "1196/1196 [==============================] - 3s 2ms/step - loss: 69485.3750 - mean_absolute_error: 161.2009 - mean_squared_error: 69485.3750 - val_loss: 74304.5547 - val_mean_absolute_error: 170.5360 - val_mean_squared_error: 74304.5547\n",
      "Epoch 66/100\n",
      "1196/1196 [==============================] - 3s 2ms/step - loss: 69880.1016 - mean_absolute_error: 161.0583 - mean_squared_error: 69880.1016 - val_loss: 71673.7422 - val_mean_absolute_error: 162.6709 - val_mean_squared_error: 71673.7422\n"
     ]
    },
    {
     "name": "stdout",
     "output_type": "stream",
     "text": [
      "Epoch 67/100\n",
      "1196/1196 [==============================] - 2s 2ms/step - loss: 69766.4688 - mean_absolute_error: 161.4015 - mean_squared_error: 69766.4688 - val_loss: 73896.3125 - val_mean_absolute_error: 169.5245 - val_mean_squared_error: 73896.3125\n",
      "Epoch 68/100\n",
      "1196/1196 [==============================] - 3s 2ms/step - loss: 69790.9609 - mean_absolute_error: 161.1591 - mean_squared_error: 69790.9609 - val_loss: 72035.2031 - val_mean_absolute_error: 167.9351 - val_mean_squared_error: 72035.2109\n",
      "Epoch 69/100\n",
      "1196/1196 [==============================] - 3s 2ms/step - loss: 69108.3438 - mean_absolute_error: 160.1155 - mean_squared_error: 69108.3438 - val_loss: 72341.6953 - val_mean_absolute_error: 163.9185 - val_mean_squared_error: 72341.6953\n",
      "Epoch 70/100\n",
      "1196/1196 [==============================] - 3s 2ms/step - loss: 69254.1719 - mean_absolute_error: 160.5968 - mean_squared_error: 69254.1719 - val_loss: 71191.5781 - val_mean_absolute_error: 162.7887 - val_mean_squared_error: 71191.5781\n",
      "Epoch 71/100\n",
      "1196/1196 [==============================] - 3s 2ms/step - loss: 69405.0312 - mean_absolute_error: 160.9777 - mean_squared_error: 69405.0312 - val_loss: 77251.4453 - val_mean_absolute_error: 176.6136 - val_mean_squared_error: 77251.4453\n",
      "Epoch 72/100\n",
      "1196/1196 [==============================] - 3s 2ms/step - loss: 69104.0938 - mean_absolute_error: 160.8446 - mean_squared_error: 69104.0938 - val_loss: 72365.4766 - val_mean_absolute_error: 164.9095 - val_mean_squared_error: 72365.4766\n",
      "Epoch 73/100\n",
      "1196/1196 [==============================] - 3s 2ms/step - loss: 68401.5234 - mean_absolute_error: 159.4382 - mean_squared_error: 68401.5234 - val_loss: 71990.3281 - val_mean_absolute_error: 163.9380 - val_mean_squared_error: 71990.3281\n",
      "Epoch 74/100\n",
      "1196/1196 [==============================] - 3s 2ms/step - loss: 69178.9688 - mean_absolute_error: 159.5301 - mean_squared_error: 69178.9766 - val_loss: 71543.2656 - val_mean_absolute_error: 166.6982 - val_mean_squared_error: 71543.2656\n",
      "Epoch 75/100\n",
      "1196/1196 [==============================] - 3s 2ms/step - loss: 68502.6641 - mean_absolute_error: 160.2465 - mean_squared_error: 68502.6641 - val_loss: 71285.7422 - val_mean_absolute_error: 162.4750 - val_mean_squared_error: 71285.7422\n",
      "Epoch 76/100\n",
      "1196/1196 [==============================] - 3s 2ms/step - loss: 68593.6250 - mean_absolute_error: 160.3188 - mean_squared_error: 68593.6250 - val_loss: 72724.2734 - val_mean_absolute_error: 166.5135 - val_mean_squared_error: 72724.2734\n",
      "Epoch 77/100\n",
      "1196/1196 [==============================] - 3s 2ms/step - loss: 68796.5078 - mean_absolute_error: 159.6166 - mean_squared_error: 68796.5078 - val_loss: 71371.0000 - val_mean_absolute_error: 166.1097 - val_mean_squared_error: 71371.0000\n",
      "Epoch 78/100\n",
      "1196/1196 [==============================] - 3s 2ms/step - loss: 69118.3438 - mean_absolute_error: 160.1407 - mean_squared_error: 69118.3438 - val_loss: 72708.0781 - val_mean_absolute_error: 167.2505 - val_mean_squared_error: 72708.0781\n",
      "Epoch 79/100\n",
      "1196/1196 [==============================] - 3s 2ms/step - loss: 67975.6953 - mean_absolute_error: 159.4169 - mean_squared_error: 67975.6875 - val_loss: 71824.3281 - val_mean_absolute_error: 163.6320 - val_mean_squared_error: 71824.3281\n",
      "Epoch 80/100\n",
      "1196/1196 [==============================] - 3s 2ms/step - loss: 67739.3594 - mean_absolute_error: 158.9817 - mean_squared_error: 67739.3594 - val_loss: 72493.6172 - val_mean_absolute_error: 165.4877 - val_mean_squared_error: 72493.6172\n",
      "Epoch 81/100\n",
      "1196/1196 [==============================] - 3s 2ms/step - loss: 68461.9141 - mean_absolute_error: 159.4424 - mean_squared_error: 68461.9297 - val_loss: 70710.7266 - val_mean_absolute_error: 163.1979 - val_mean_squared_error: 70710.7266\n",
      "Epoch 82/100\n",
      "1196/1196 [==============================] - 3s 2ms/step - loss: 68435.5938 - mean_absolute_error: 159.8256 - mean_squared_error: 68435.5938 - val_loss: 72995.9141 - val_mean_absolute_error: 173.9294 - val_mean_squared_error: 72995.9141\n",
      "Epoch 83/100\n",
      "1196/1196 [==============================] - 3s 2ms/step - loss: 68113.5938 - mean_absolute_error: 159.4388 - mean_squared_error: 68113.5938 - val_loss: 73037.5625 - val_mean_absolute_error: 164.6557 - val_mean_squared_error: 73037.5625\n",
      "Epoch 84/100\n",
      "1196/1196 [==============================] - 3s 2ms/step - loss: 67991.3125 - mean_absolute_error: 159.6327 - mean_squared_error: 67991.3125 - val_loss: 74388.4453 - val_mean_absolute_error: 163.8084 - val_mean_squared_error: 74388.4453\n",
      "Epoch 85/100\n",
      "1196/1196 [==============================] - 3s 2ms/step - loss: 68134.0000 - mean_absolute_error: 158.9253 - mean_squared_error: 68134.0000 - val_loss: 73749.6484 - val_mean_absolute_error: 168.6233 - val_mean_squared_error: 73749.6484\n",
      "Epoch 86/100\n",
      "1196/1196 [==============================] - 3s 2ms/step - loss: 67927.5703 - mean_absolute_error: 159.2766 - mean_squared_error: 67927.5703 - val_loss: 70801.9141 - val_mean_absolute_error: 165.4955 - val_mean_squared_error: 70801.9141\n",
      "Epoch 87/100\n",
      "1196/1196 [==============================] - 3s 2ms/step - loss: 68461.2578 - mean_absolute_error: 159.5072 - mean_squared_error: 68461.2422 - val_loss: 73382.9922 - val_mean_absolute_error: 162.9534 - val_mean_squared_error: 73382.9922\n",
      "Epoch 88/100\n",
      "1196/1196 [==============================] - 3s 2ms/step - loss: 67629.5547 - mean_absolute_error: 158.9524 - mean_squared_error: 67629.5547 - val_loss: 71936.7891 - val_mean_absolute_error: 161.9673 - val_mean_squared_error: 71936.7891\n",
      "Epoch 89/100\n",
      "1196/1196 [==============================] - 3s 2ms/step - loss: 68096.7266 - mean_absolute_error: 158.6496 - mean_squared_error: 68096.7266 - val_loss: 70688.1797 - val_mean_absolute_error: 161.6448 - val_mean_squared_error: 70688.1797\n",
      "Epoch 90/100\n",
      "1196/1196 [==============================] - 3s 2ms/step - loss: 68207.3828 - mean_absolute_error: 159.0926 - mean_squared_error: 68207.3828 - val_loss: 73068.6562 - val_mean_absolute_error: 169.0566 - val_mean_squared_error: 73068.6562\n",
      "Epoch 91/100\n",
      "1196/1196 [==============================] - 3s 2ms/step - loss: 67834.3672 - mean_absolute_error: 158.8640 - mean_squared_error: 67834.3672 - val_loss: 71005.5234 - val_mean_absolute_error: 161.3919 - val_mean_squared_error: 71005.5234\n",
      "Epoch 92/100\n",
      "1196/1196 [==============================] - 3s 2ms/step - loss: 67464.4922 - mean_absolute_error: 158.1046 - mean_squared_error: 67464.4922 - val_loss: 70816.6172 - val_mean_absolute_error: 162.5831 - val_mean_squared_error: 70816.6172\n",
      "Epoch 93/100\n",
      "1196/1196 [==============================] - 3s 2ms/step - loss: 67667.3594 - mean_absolute_error: 158.3275 - mean_squared_error: 67667.3594 - val_loss: 85926.0938 - val_mean_absolute_error: 182.8750 - val_mean_squared_error: 85926.0938\n",
      "Epoch 94/100\n",
      "1196/1196 [==============================] - 3s 2ms/step - loss: 67739.7422 - mean_absolute_error: 158.8660 - mean_squared_error: 67739.7422 - val_loss: 71872.3984 - val_mean_absolute_error: 167.0959 - val_mean_squared_error: 71872.3906\n",
      "Epoch 95/100\n",
      "1196/1196 [==============================] - 3s 2ms/step - loss: 67526.9766 - mean_absolute_error: 157.5992 - mean_squared_error: 67526.9766 - val_loss: 70735.7891 - val_mean_absolute_error: 162.3690 - val_mean_squared_error: 70735.7891\n",
      "Epoch 96/100\n",
      "1196/1196 [==============================] - 3s 2ms/step - loss: 67067.3594 - mean_absolute_error: 157.4617 - mean_squared_error: 67067.3594 - val_loss: 70508.5234 - val_mean_absolute_error: 162.1508 - val_mean_squared_error: 70508.5234\n",
      "Epoch 97/100\n",
      "1196/1196 [==============================] - 3s 2ms/step - loss: 67065.5078 - mean_absolute_error: 157.6964 - mean_squared_error: 67065.5078 - val_loss: 71199.4688 - val_mean_absolute_error: 162.1437 - val_mean_squared_error: 71199.4688\n",
      "Epoch 98/100\n",
      "1196/1196 [==============================] - 3s 2ms/step - loss: 67394.1016 - mean_absolute_error: 157.7874 - mean_squared_error: 67394.1016 - val_loss: 71182.3438 - val_mean_absolute_error: 169.1041 - val_mean_squared_error: 71182.3438\n",
      "Epoch 99/100\n",
      "1196/1196 [==============================] - 3s 2ms/step - loss: 67696.9531 - mean_absolute_error: 158.4351 - mean_squared_error: 67696.9531 - val_loss: 71429.6719 - val_mean_absolute_error: 162.7963 - val_mean_squared_error: 71429.6719\n"
     ]
    },
    {
     "name": "stdout",
     "output_type": "stream",
     "text": [
      "Epoch 100/100\n",
      "1196/1196 [==============================] - 3s 2ms/step - loss: 66963.4922 - mean_absolute_error: 157.8085 - mean_squared_error: 66963.4922 - val_loss: 71288.0547 - val_mean_absolute_error: 162.5123 - val_mean_squared_error: 71288.0547\n"
     ]
    }
   ],
   "source": [
    "fitting=nn_model.fit(X_scaled_train,y_train,epochs=100,batch_size=10,validation_data=(X_scaled_test,y_test))"
   ]
  },
  {
   "cell_type": "code",
   "execution_count": 144,
   "id": "2f487aea",
   "metadata": {},
   "outputs": [
    {
     "ename": "NameError",
     "evalue": "name 'nn_model' is not defined",
     "output_type": "error",
     "traceback": [
      "\u001b[1;31m---------------------------------------------------------------------------\u001b[0m",
      "\u001b[1;31mNameError\u001b[0m                                 Traceback (most recent call last)",
      "\u001b[1;32m~\\AppData\\Local\\Temp/ipykernel_6020/4249798867.py\u001b[0m in \u001b[0;36m<module>\u001b[1;34m\u001b[0m\n\u001b[1;32m----> 1\u001b[1;33m \u001b[0mtest_predictions\u001b[0m\u001b[1;33m=\u001b[0m\u001b[0mnn_model\u001b[0m\u001b[1;33m.\u001b[0m\u001b[0mpredict\u001b[0m\u001b[1;33m(\u001b[0m\u001b[0mX_scaled_test\u001b[0m\u001b[1;33m)\u001b[0m\u001b[1;33m\u001b[0m\u001b[1;33m\u001b[0m\u001b[0m\n\u001b[0m\u001b[0;32m      2\u001b[0m \u001b[0mnn_model\u001b[0m\u001b[1;33m.\u001b[0m\u001b[0mevaluate\u001b[0m\u001b[1;33m(\u001b[0m\u001b[0mX_scaled_test\u001b[0m\u001b[1;33m,\u001b[0m\u001b[0my_test\u001b[0m\u001b[1;33m)\u001b[0m\u001b[1;33m\u001b[0m\u001b[1;33m\u001b[0m\u001b[0m\n",
      "\u001b[1;31mNameError\u001b[0m: name 'nn_model' is not defined"
     ]
    }
   ],
   "source": [
    "test_predictions=nn_model.predict(X_scaled_test)\n",
    "nn_model.evaluate(X_scaled_test,y_test)"
   ]
  },
  {
   "cell_type": "code",
   "execution_count": 100,
   "id": "a02a40f2",
   "metadata": {},
   "outputs": [
    {
     "name": "stdout",
     "output_type": "stream",
     "text": [
      "94/94 [==============================] - 0s 2ms/step - loss: 71288.0547 - mean_absolute_error: 162.5123 - mean_squared_error: 71288.0547\n"
     ]
    },
    {
     "data": {
      "text/plain": [
       "266.99822974600414"
      ]
     },
     "execution_count": 100,
     "metadata": {},
     "output_type": "execute_result"
    }
   ],
   "source": [
    "rmse=np.sqrt(nn_model.evaluate(X_scaled_test,y_test)[2])\n",
    "rmse"
   ]
  },
  {
   "cell_type": "code",
   "execution_count": 119,
   "id": "b02639a2",
   "metadata": {},
   "outputs": [
    {
     "data": {
      "text/plain": [
       "<matplotlib.collections.PathCollection at 0x2449156b760>"
      ]
     },
     "execution_count": 119,
     "metadata": {},
     "output_type": "execute_result"
    },
    {
     "data": {
      "image/png": "[encoded data removed]",
      "text/plain": [
       "<Figure size 432x288 with 1 Axes>"
      ]
     },
     "metadata": {
      "needs_background": "light"
     },
     "output_type": "display_data"
    }
   ],
   "source": [
    "plt.scatter(y_test,test_predictions)\n",
    "plt.scatter(y_test,y_predicted,c='r')"
   ]
  },
  {
   "cell_type": "code",
   "execution_count": 113,
   "id": "061e4f17",
   "metadata": {},
   "outputs": [],
   "source": [
    "from sklearn.ensemble import RandomForestRegressor"
   ]
  },
  {
   "cell_type": "code",
   "execution_count": 115,
   "id": "c5774c4c",
   "metadata": {},
   "outputs": [
    {
     "data": {
      "text/html": [
       "<style>#sk-container-id-6 {color: black;background-color: white;}#sk-container-id-6 pre{padding: 0;}#sk-container-id-6 div.sk-toggleable {background-color: white;}#sk-container-id-6 label.sk-toggleable__label {cursor: pointer;display: block;width: 100%;margin-bottom: 0;padding: 0.3em;box-sizing: border-box;text-align: center;}#sk-container-id-6 label.sk-toggleable__label-arrow:before {content: \"▸\";float: left;margin-right: 0.25em;color: #696969;}#sk-container-id-6 label.sk-toggleable__label-arrow:hover:before {color: black;}#sk-container-id-6 div.sk-estimator:hover label.sk-toggleable__label-arrow:before {color: black;}#sk-container-id-6 div.sk-toggleable__content {max-height: 0;max-width: 0;overflow: hidden;text-align: left;background-color: #f0f8ff;}#sk-container-id-6 div.sk-toggleable__content pre {margin: 0.2em;color: black;border-radius: 0.25em;background-color: #f0f8ff;}#sk-container-id-6 input.sk-toggleable__control:checked~div.sk-toggleable__content {max-height: 200px;max-width: 100%;overflow: auto;}#sk-container-id-6 input.sk-toggleable__control:checked~label.sk-toggleable__label-arrow:before {content: \"▾\";}#sk-container-id-6 div.sk-estimator input.sk-toggleable__control:checked~label.sk-toggleable__label {background-color: #d4ebff;}#sk-container-id-6 div.sk-label input.sk-toggleable__control:checked~label.sk-toggleable__label {background-color: #d4ebff;}#sk-container-id-6 input.sk-hidden--visually {border: 0;clip: rect(1px 1px 1px 1px);clip: rect(1px, 1px, 1px, 1px);height: 1px;margin: -1px;overflow: hidden;padding: 0;position: absolute;width: 1px;}#sk-container-id-6 div.sk-estimator {font-family: monospace;background-color: #f0f8ff;border: 1px dotted black;border-radius: 0.25em;box-sizing: border-box;margin-bottom: 0.5em;}#sk-container-id-6 div.sk-estimator:hover {background-color: #d4ebff;}#sk-container-id-6 div.sk-parallel-item::after {content: \"\";width: 100%;border-bottom: 1px solid gray;flex-grow: 1;}#sk-container-id-6 div.sk-label:hover label.sk-toggleable__label {background-color: #d4ebff;}#sk-container-id-6 div.sk-serial::before {content: \"\";position: absolute;border-left: 1px solid gray;box-sizing: border-box;top: 0;bottom: 0;left: 50%;z-index: 0;}#sk-container-id-6 div.sk-serial {display: flex;flex-direction: column;align-items: center;background-color: white;padding-right: 0.2em;padding-left: 0.2em;position: relative;}#sk-container-id-6 div.sk-item {position: relative;z-index: 1;}#sk-container-id-6 div.sk-parallel {display: flex;align-items: stretch;justify-content: center;background-color: white;position: relative;}#sk-container-id-6 div.sk-item::before, #sk-container-id-6 div.sk-parallel-item::before {content: \"\";position: absolute;border-left: 1px solid gray;box-sizing: border-box;top: 0;bottom: 0;left: 50%;z-index: -1;}#sk-container-id-6 div.sk-parallel-item {display: flex;flex-direction: column;z-index: 1;position: relative;background-color: white;}#sk-container-id-6 div.sk-parallel-item:first-child::after {align-self: flex-end;width: 50%;}#sk-container-id-6 div.sk-parallel-item:last-child::after {align-self: flex-start;width: 50%;}#sk-container-id-6 div.sk-parallel-item:only-child::after {width: 0;}#sk-container-id-6 div.sk-dashed-wrapped {border: 1px dashed gray;margin: 0 0.4em 0.5em 0.4em;box-sizing: border-box;padding-bottom: 0.4em;background-color: white;}#sk-container-id-6 div.sk-label label {font-family: monospace;font-weight: bold;display: inline-block;line-height: 1.2em;}#sk-container-id-6 div.sk-label-container {text-align: center;}#sk-container-id-6 div.sk-container {/* jupyter's `normalize.less` sets `[hidden] { display: none; }` but bootstrap.min.css set `[hidden] { display: none !important; }` so we also need the `!important` here to be able to override the default hidden behavior on the sphinx rendered scikit-learn.org. See: https://github.com/scikit-learn/scikit-learn/issues/21755 */display: inline-block !important;position: relative;}#sk-container-id-6 div.sk-text-repr-fallback {display: none;}</style><div id=\"sk-container-id-6\" class=\"sk-top-container\"><div class=\"sk-text-repr-fallback\"><pre>RandomForestRegressor(random_state=0)</pre><b>In a Jupyter environment, please rerun this cell to show the HTML representation or trust the notebook. <br />On GitHub, the HTML representation is unable to render, please try loading this page with nbviewer.org.</b></div><div class=\"sk-container\" hidden><div class=\"sk-item\"><div class=\"sk-estimator sk-toggleable\"><input class=\"sk-toggleable__control sk-hidden--visually\" id=\"sk-estimator-id-6\" type=\"checkbox\" checked><label for=\"sk-estimator-id-6\" class=\"sk-toggleable__label sk-toggleable__label-arrow\">RandomForestRegressor</label><div class=\"sk-toggleable__content\"><pre>RandomForestRegressor(random_state=0)</pre></div></div></div></div></div>"
      ],
      "text/plain": [
       "RandomForestRegressor(random_state=0)"
      ]
     },
     "execution_count": 115,
     "metadata": {},
     "output_type": "execute_result"
    }
   ],
   "source": [
    "rf_reg=RandomForestRegressor(n_estimators=100,random_state=0)\n",
    "rf_reg.fit(X_train,y_train)"
   ]
  },
  {
   "cell_type": "code",
   "execution_count": 116,
   "id": "e8b617a4",
   "metadata": {},
   "outputs": [
    {
     "name": "stdout",
     "output_type": "stream",
     "text": [
      "Root Mean absolute Error:  95.00969926119124\n",
      "Mean Square Error:  40563.63367351329\n",
      "Root Mean Square Error:  201.40415505523538\n"
     ]
    }
   ],
   "source": [
    "    y_actual = y_test\n",
    "    y_predicted = rf_reg.predict(X_test)\n",
    " \n",
    "    #MSE = np.square(np.subtract(y_actual,y_predicted)).mean() \n",
    "    MSE= metrics.mean_squared_error(y_test,y_predicted)\n",
    "    RMSE = np.sqrt(MSE)\n",
    "    print(\"Root Mean absolute Error: \",metrics.mean_absolute_error(y_test,y_predicted))\n",
    "    print(\"Mean Square Error: \",MSE)\n",
    "    print(\"Root Mean Square Error: \",RMSE)"
   ]
  },
  {
   "cell_type": "code",
   "execution_count": 138,
   "id": "3c50ecb7",
   "metadata": {},
   "outputs": [],
   "source": [
    "test_scaled_x=scaler.transform(test_x)"
   ]
  },
  {
   "cell_type": "code",
   "execution_count": 139,
   "id": "4f4e1ee8",
   "metadata": {},
   "outputs": [],
   "source": [
    "res1=rf_reg.predict(test_x)"
   ]
  },
  {
   "cell_type": "code",
   "execution_count": 140,
   "id": "41b5a5c3",
   "metadata": {},
   "outputs": [],
   "source": [
    "df1=pd.DataFrame()\n",
    "df1['id']=test_df.id\n",
    "df1['price1']=pd.DataFrame(res1)"
   ]
  },
  {
   "cell_type": "code",
   "execution_count": 143,
   "id": "144a1dc2",
   "metadata": {},
   "outputs": [],
   "source": [
    "df1.to_csv(\"predict_result_2.csv\",index=False)"
   ]
  },
  {
   "cell_type": "code",
   "execution_count": 142,
   "id": "995fc185",
   "metadata": {},
   "outputs": [
    {
     "data": {
      "text/plain": [
       "(5244, 2)"
      ]
     },
     "execution_count": 142,
     "metadata": {},
     "output_type": "execute_result"
    }
   ],
   "source": [
    "df1.shape"
   ]
  },
  {
   "cell_type": "code",
   "execution_count": null,
   "id": "2dbe8c3a",
   "metadata": {},
   "outputs": [],
   "source": []
  }
 ],
 "metadata": {
  "kernelspec": {
   "display_name": "Python 3 (ipykernel)",
   "language": "python",
   "name": "python3"
  },
  "language_info": {
   "codemirror_mode": {
    "name": "ipython",
    "version": 3
   },
   "file_extension": ".py",
   "mimetype": "text/x-python",
   "name": "python",
   "nbconvert_exporter": "python",
   "pygments_lexer": "ipython3",
   "version": "3.9.7"
  }
 },
 "nbformat": 4,
 "nbformat_minor": 5
}
